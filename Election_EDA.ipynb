{
 "cells": [
  {
   "cell_type": "code",
   "execution_count": 1,
   "metadata": {},
   "outputs": [],
   "source": [
    "import pandas as pd \n",
    "import numpy as np\n",
    "import matplotlib.pyplot as plt\n",
    "import plotly.express as px\n",
    "import seaborn as sns\n",
    "import warnings \n",
    "warnings.filterwarnings('ignore')"
   ]
  },
  {
   "cell_type": "code",
   "execution_count": 2,
   "metadata": {},
   "outputs": [],
   "source": [
    "df=pd.read_csv('D:\\DS\\milestone test\\election2024.csv')"
   ]
  },
  {
   "cell_type": "code",
   "execution_count": 3,
   "metadata": {},
   "outputs": [
    {
     "data": {
      "text/html": [
       "<div>\n",
       "<style scoped>\n",
       "    .dataframe tbody tr th:only-of-type {\n",
       "        vertical-align: middle;\n",
       "    }\n",
       "\n",
       "    .dataframe tbody tr th {\n",
       "        vertical-align: top;\n",
       "    }\n",
       "\n",
       "    .dataframe thead th {\n",
       "        text-align: right;\n",
       "    }\n",
       "</style>\n",
       "<table border=\"1\" class=\"dataframe\">\n",
       "  <thead>\n",
       "    <tr style=\"text-align: right;\">\n",
       "      <th></th>\n",
       "      <th>id</th>\n",
       "      <th>sex</th>\n",
       "      <th>age</th>\n",
       "      <th>federal_district</th>\n",
       "      <th>type_of_city</th>\n",
       "      <th>knows_election_date</th>\n",
       "      <th>will_vote</th>\n",
       "      <th>candidate</th>\n",
       "      <th>television_usage</th>\n",
       "      <th>internet_usage</th>\n",
       "      <th>education</th>\n",
       "      <th>income</th>\n",
       "      <th>employment</th>\n",
       "      <th>job_type</th>\n",
       "      <th>company_type</th>\n",
       "      <th>weight1</th>\n",
       "    </tr>\n",
       "  </thead>\n",
       "  <tbody>\n",
       "    <tr>\n",
       "      <th>0</th>\n",
       "      <td>07169ed8148ce047</td>\n",
       "      <td>male</td>\n",
       "      <td>18.0</td>\n",
       "      <td>north caucasian</td>\n",
       "      <td>village</td>\n",
       "      <td>named correct date</td>\n",
       "      <td>not sure</td>\n",
       "      <td>Putin</td>\n",
       "      <td>several times a week</td>\n",
       "      <td>over 4 hours a day</td>\n",
       "      <td>incomplete school education</td>\n",
       "      <td>very high</td>\n",
       "      <td>entrepreneur</td>\n",
       "      <td>NaN</td>\n",
       "      <td>farming</td>\n",
       "      <td>1.445172</td>\n",
       "    </tr>\n",
       "    <tr>\n",
       "      <th>1</th>\n",
       "      <td>0716a4f3354cecdd</td>\n",
       "      <td>male</td>\n",
       "      <td>23.0</td>\n",
       "      <td>north caucasian</td>\n",
       "      <td>village</td>\n",
       "      <td>named correct date</td>\n",
       "      <td>not sure</td>\n",
       "      <td>Putin</td>\n",
       "      <td>once half a year</td>\n",
       "      <td>over 4 hours a day</td>\n",
       "      <td>college</td>\n",
       "      <td>very high</td>\n",
       "      <td>work for hire</td>\n",
       "      <td>commercial organization</td>\n",
       "      <td>trade</td>\n",
       "      <td>1.445172</td>\n",
       "    </tr>\n",
       "    <tr>\n",
       "      <th>2</th>\n",
       "      <td>0716889b304ce79c</td>\n",
       "      <td>male</td>\n",
       "      <td>20.0</td>\n",
       "      <td>volga</td>\n",
       "      <td>city with population of less than 50k</td>\n",
       "      <td>named correct date</td>\n",
       "      <td>definitely yes</td>\n",
       "      <td>Putin</td>\n",
       "      <td>several times a week</td>\n",
       "      <td>over 4 hours a day</td>\n",
       "      <td>college</td>\n",
       "      <td>very high</td>\n",
       "      <td>work for hire</td>\n",
       "      <td>law enforcement agency</td>\n",
       "      <td>law enforcement agency</td>\n",
       "      <td>1.301691</td>\n",
       "    </tr>\n",
       "    <tr>\n",
       "      <th>3</th>\n",
       "      <td>07168e28b5cce563</td>\n",
       "      <td>male</td>\n",
       "      <td>22.0</td>\n",
       "      <td>northwestern</td>\n",
       "      <td>city with population of 1 million and higher</td>\n",
       "      <td>not sure or no answer</td>\n",
       "      <td>not sure</td>\n",
       "      <td>Davankov</td>\n",
       "      <td>several times a week</td>\n",
       "      <td>over 4 hours a day</td>\n",
       "      <td>college</td>\n",
       "      <td>very high</td>\n",
       "      <td>unemployed</td>\n",
       "      <td>NaN</td>\n",
       "      <td>NaN</td>\n",
       "      <td>1.538628</td>\n",
       "    </tr>\n",
       "    <tr>\n",
       "      <th>4</th>\n",
       "      <td>0716a563914ce549</td>\n",
       "      <td>male</td>\n",
       "      <td>21.0</td>\n",
       "      <td>southern</td>\n",
       "      <td>city with population of 1 million and higher</td>\n",
       "      <td>named correct date</td>\n",
       "      <td>definitely yes</td>\n",
       "      <td>Putin</td>\n",
       "      <td>does not watch</td>\n",
       "      <td>over 4 hours a day</td>\n",
       "      <td>bachelor degree</td>\n",
       "      <td>very high</td>\n",
       "      <td>employed student</td>\n",
       "      <td>commercial organization</td>\n",
       "      <td>tech, programming, communications</td>\n",
       "      <td>1.967015</td>\n",
       "    </tr>\n",
       "    <tr>\n",
       "      <th>...</th>\n",
       "      <td>...</td>\n",
       "      <td>...</td>\n",
       "      <td>...</td>\n",
       "      <td>...</td>\n",
       "      <td>...</td>\n",
       "      <td>...</td>\n",
       "      <td>...</td>\n",
       "      <td>...</td>\n",
       "      <td>...</td>\n",
       "      <td>...</td>\n",
       "      <td>...</td>\n",
       "      <td>...</td>\n",
       "      <td>...</td>\n",
       "      <td>...</td>\n",
       "      <td>...</td>\n",
       "      <td>...</td>\n",
       "    </tr>\n",
       "    <tr>\n",
       "      <th>1595</th>\n",
       "      <td>0716b23c2c0cee3a</td>\n",
       "      <td>male</td>\n",
       "      <td>61.0</td>\n",
       "      <td>central</td>\n",
       "      <td>settlement</td>\n",
       "      <td>named correct date</td>\n",
       "      <td>definitely no</td>\n",
       "      <td>will not take part</td>\n",
       "      <td>over 4 hours a day</td>\n",
       "      <td>less than 4 hours a day</td>\n",
       "      <td>bachelor degree</td>\n",
       "      <td>hard to say</td>\n",
       "      <td>unemployed pensioner</td>\n",
       "      <td>NaN</td>\n",
       "      <td>NaN</td>\n",
       "      <td>1.270761</td>\n",
       "    </tr>\n",
       "    <tr>\n",
       "      <th>1596</th>\n",
       "      <td>07168254d14ceb55</td>\n",
       "      <td>female</td>\n",
       "      <td>80.0</td>\n",
       "      <td>volga</td>\n",
       "      <td>village</td>\n",
       "      <td>named correct date</td>\n",
       "      <td>likely yes</td>\n",
       "      <td>struggle to answer</td>\n",
       "      <td>several times a week</td>\n",
       "      <td>does not use internet</td>\n",
       "      <td>college</td>\n",
       "      <td>hard to say</td>\n",
       "      <td>unemployed pensioner</td>\n",
       "      <td>NaN</td>\n",
       "      <td>NaN</td>\n",
       "      <td>0.921724</td>\n",
       "    </tr>\n",
       "    <tr>\n",
       "      <th>1597</th>\n",
       "      <td>071690f34d4ce164</td>\n",
       "      <td>female</td>\n",
       "      <td>76.0</td>\n",
       "      <td>northwestern</td>\n",
       "      <td>city with population of 50-100k</td>\n",
       "      <td>named correct date</td>\n",
       "      <td>definitely yes</td>\n",
       "      <td>Putin</td>\n",
       "      <td>does not watch</td>\n",
       "      <td>over 4 hours a day</td>\n",
       "      <td>bachelor degree</td>\n",
       "      <td>hard to say</td>\n",
       "      <td>unemployed pensioner</td>\n",
       "      <td>NaN</td>\n",
       "      <td>NaN</td>\n",
       "      <td>1.396691</td>\n",
       "    </tr>\n",
       "    <tr>\n",
       "      <th>1598</th>\n",
       "      <td>0716bfa9c48ce79a</td>\n",
       "      <td>female</td>\n",
       "      <td>74.0</td>\n",
       "      <td>central</td>\n",
       "      <td>city with population of less than 50k</td>\n",
       "      <td>not sure or no answer</td>\n",
       "      <td>definitely yes</td>\n",
       "      <td>Putin</td>\n",
       "      <td>over 4 hours a day</td>\n",
       "      <td>over 4 hours a day</td>\n",
       "      <td>academic degree</td>\n",
       "      <td>hard to say</td>\n",
       "      <td>employed pensioner</td>\n",
       "      <td>commercial organization</td>\n",
       "      <td>industry, manufacturing</td>\n",
       "      <td>0.995849</td>\n",
       "    </tr>\n",
       "    <tr>\n",
       "      <th>1599</th>\n",
       "      <td>07168088318cef88</td>\n",
       "      <td>female</td>\n",
       "      <td>76.0</td>\n",
       "      <td>ural</td>\n",
       "      <td>village</td>\n",
       "      <td>named correct date</td>\n",
       "      <td>definitely yes</td>\n",
       "      <td>Putin</td>\n",
       "      <td>over 4 hours a day</td>\n",
       "      <td>over 4 hours a day</td>\n",
       "      <td>school</td>\n",
       "      <td>hard to say</td>\n",
       "      <td>unemployed pensioner</td>\n",
       "      <td>NaN</td>\n",
       "      <td>NaN</td>\n",
       "      <td>0.860836</td>\n",
       "    </tr>\n",
       "  </tbody>\n",
       "</table>\n",
       "<p>1600 rows × 16 columns</p>\n",
       "</div>"
      ],
      "text/plain": [
       "                    id     sex   age federal_district  \\\n",
       "0     07169ed8148ce047    male  18.0  north caucasian   \n",
       "1     0716a4f3354cecdd    male  23.0  north caucasian   \n",
       "2     0716889b304ce79c    male  20.0            volga   \n",
       "3     07168e28b5cce563    male  22.0     northwestern   \n",
       "4     0716a563914ce549    male  21.0         southern   \n",
       "...                ...     ...   ...              ...   \n",
       "1595  0716b23c2c0cee3a    male  61.0          central   \n",
       "1596  07168254d14ceb55  female  80.0            volga   \n",
       "1597  071690f34d4ce164  female  76.0     northwestern   \n",
       "1598  0716bfa9c48ce79a  female  74.0          central   \n",
       "1599  07168088318cef88  female  76.0             ural   \n",
       "\n",
       "                                      type_of_city    knows_election_date  \\\n",
       "0                                          village     named correct date   \n",
       "1                                          village     named correct date   \n",
       "2            city with population of less than 50k     named correct date   \n",
       "3     city with population of 1 million and higher  not sure or no answer   \n",
       "4     city with population of 1 million and higher     named correct date   \n",
       "...                                            ...                    ...   \n",
       "1595                                    settlement     named correct date   \n",
       "1596                                       village     named correct date   \n",
       "1597               city with population of 50-100k     named correct date   \n",
       "1598         city with population of less than 50k  not sure or no answer   \n",
       "1599                                       village     named correct date   \n",
       "\n",
       "           will_vote           candidate      television_usage  \\\n",
       "0           not sure               Putin  several times a week   \n",
       "1           not sure               Putin      once half a year   \n",
       "2     definitely yes               Putin  several times a week   \n",
       "3           not sure            Davankov  several times a week   \n",
       "4     definitely yes               Putin        does not watch   \n",
       "...              ...                 ...                   ...   \n",
       "1595   definitely no  will not take part    over 4 hours a day   \n",
       "1596      likely yes  struggle to answer  several times a week   \n",
       "1597  definitely yes               Putin        does not watch   \n",
       "1598  definitely yes               Putin    over 4 hours a day   \n",
       "1599  definitely yes               Putin    over 4 hours a day   \n",
       "\n",
       "               internet_usage                    education       income  \\\n",
       "0          over 4 hours a day  incomplete school education    very high   \n",
       "1          over 4 hours a day                      college    very high   \n",
       "2          over 4 hours a day                      college    very high   \n",
       "3          over 4 hours a day                      college    very high   \n",
       "4          over 4 hours a day              bachelor degree    very high   \n",
       "...                       ...                          ...          ...   \n",
       "1595  less than 4 hours a day              bachelor degree  hard to say   \n",
       "1596    does not use internet                      college  hard to say   \n",
       "1597       over 4 hours a day              bachelor degree  hard to say   \n",
       "1598       over 4 hours a day              academic degree  hard to say   \n",
       "1599       over 4 hours a day                       school  hard to say   \n",
       "\n",
       "                employment                 job_type  \\\n",
       "0             entrepreneur                      NaN   \n",
       "1            work for hire  commercial organization   \n",
       "2            work for hire   law enforcement agency   \n",
       "3               unemployed                      NaN   \n",
       "4         employed student  commercial organization   \n",
       "...                    ...                      ...   \n",
       "1595  unemployed pensioner                      NaN   \n",
       "1596  unemployed pensioner                      NaN   \n",
       "1597  unemployed pensioner                      NaN   \n",
       "1598    employed pensioner  commercial organization   \n",
       "1599  unemployed pensioner                      NaN   \n",
       "\n",
       "                           company_type   weight1  \n",
       "0                               farming  1.445172  \n",
       "1                                 trade  1.445172  \n",
       "2                law enforcement agency  1.301691  \n",
       "3                                   NaN  1.538628  \n",
       "4     tech, programming, communications  1.967015  \n",
       "...                                 ...       ...  \n",
       "1595                                NaN  1.270761  \n",
       "1596                                NaN  0.921724  \n",
       "1597                                NaN  1.396691  \n",
       "1598            industry, manufacturing  0.995849  \n",
       "1599                                NaN  0.860836  \n",
       "\n",
       "[1600 rows x 16 columns]"
      ]
     },
     "execution_count": 3,
     "metadata": {},
     "output_type": "execute_result"
    }
   ],
   "source": [
    "df"
   ]
  },
  {
   "cell_type": "code",
   "execution_count": 4,
   "metadata": {},
   "outputs": [
    {
     "data": {
      "text/html": [
       "<div>\n",
       "<style scoped>\n",
       "    .dataframe tbody tr th:only-of-type {\n",
       "        vertical-align: middle;\n",
       "    }\n",
       "\n",
       "    .dataframe tbody tr th {\n",
       "        vertical-align: top;\n",
       "    }\n",
       "\n",
       "    .dataframe thead th {\n",
       "        text-align: right;\n",
       "    }\n",
       "</style>\n",
       "<table border=\"1\" class=\"dataframe\">\n",
       "  <thead>\n",
       "    <tr style=\"text-align: right;\">\n",
       "      <th></th>\n",
       "      <th>age</th>\n",
       "      <th>weight1</th>\n",
       "    </tr>\n",
       "  </thead>\n",
       "  <tbody>\n",
       "    <tr>\n",
       "      <th>count</th>\n",
       "      <td>1600.000000</td>\n",
       "      <td>1600.000000</td>\n",
       "    </tr>\n",
       "    <tr>\n",
       "      <th>mean</th>\n",
       "      <td>49.936250</td>\n",
       "      <td>1.000000</td>\n",
       "    </tr>\n",
       "    <tr>\n",
       "      <th>std</th>\n",
       "      <td>16.901797</td>\n",
       "      <td>0.327084</td>\n",
       "    </tr>\n",
       "    <tr>\n",
       "      <th>min</th>\n",
       "      <td>18.000000</td>\n",
       "      <td>0.468226</td>\n",
       "    </tr>\n",
       "    <tr>\n",
       "      <th>25%</th>\n",
       "      <td>37.000000</td>\n",
       "      <td>0.772224</td>\n",
       "    </tr>\n",
       "    <tr>\n",
       "      <th>50%</th>\n",
       "      <td>49.000000</td>\n",
       "      <td>0.921724</td>\n",
       "    </tr>\n",
       "    <tr>\n",
       "      <th>75%</th>\n",
       "      <td>64.000000</td>\n",
       "      <td>1.158913</td>\n",
       "    </tr>\n",
       "    <tr>\n",
       "      <th>max</th>\n",
       "      <td>90.000000</td>\n",
       "      <td>2.515072</td>\n",
       "    </tr>\n",
       "  </tbody>\n",
       "</table>\n",
       "</div>"
      ],
      "text/plain": [
       "               age      weight1\n",
       "count  1600.000000  1600.000000\n",
       "mean     49.936250     1.000000\n",
       "std      16.901797     0.327084\n",
       "min      18.000000     0.468226\n",
       "25%      37.000000     0.772224\n",
       "50%      49.000000     0.921724\n",
       "75%      64.000000     1.158913\n",
       "max      90.000000     2.515072"
      ]
     },
     "execution_count": 4,
     "metadata": {},
     "output_type": "execute_result"
    }
   ],
   "source": [
    "df.describe()"
   ]
  },
  {
   "cell_type": "code",
   "execution_count": 5,
   "metadata": {},
   "outputs": [
    {
     "data": {
      "text/plain": [
       "id                       0\n",
       "sex                      0\n",
       "age                      0\n",
       "federal_district         0\n",
       "type_of_city             0\n",
       "knows_election_date      0\n",
       "will_vote                0\n",
       "candidate                0\n",
       "television_usage         0\n",
       "internet_usage           0\n",
       "education                0\n",
       "income                   0\n",
       "employment               0\n",
       "job_type               908\n",
       "company_type           721\n",
       "weight1                  0\n",
       "dtype: int64"
      ]
     },
     "execution_count": 5,
     "metadata": {},
     "output_type": "execute_result"
    }
   ],
   "source": [
    "df.isna().sum()"
   ]
  },
  {
   "cell_type": "code",
   "execution_count": 6,
   "metadata": {},
   "outputs": [
    {
     "name": "stdout",
     "output_type": "stream",
     "text": [
      "<class 'pandas.core.frame.DataFrame'>\n",
      "RangeIndex: 1600 entries, 0 to 1599\n",
      "Data columns (total 16 columns):\n",
      " #   Column               Non-Null Count  Dtype  \n",
      "---  ------               --------------  -----  \n",
      " 0   id                   1600 non-null   object \n",
      " 1   sex                  1600 non-null   object \n",
      " 2   age                  1600 non-null   float64\n",
      " 3   federal_district     1600 non-null   object \n",
      " 4   type_of_city         1600 non-null   object \n",
      " 5   knows_election_date  1600 non-null   object \n",
      " 6   will_vote            1600 non-null   object \n",
      " 7   candidate            1600 non-null   object \n",
      " 8   television_usage     1600 non-null   object \n",
      " 9   internet_usage       1600 non-null   object \n",
      " 10  education            1600 non-null   object \n",
      " 11  income               1600 non-null   object \n",
      " 12  employment           1600 non-null   object \n",
      " 13  job_type             692 non-null    object \n",
      " 14  company_type         879 non-null    object \n",
      " 15  weight1              1600 non-null   float64\n",
      "dtypes: float64(2), object(14)\n",
      "memory usage: 200.1+ KB\n"
     ]
    }
   ],
   "source": [
    "df.info()"
   ]
  },
  {
   "cell_type": "code",
   "execution_count": 7,
   "metadata": {},
   "outputs": [
    {
     "data": {
      "text/plain": [
       "np.int64(0)"
      ]
     },
     "execution_count": 7,
     "metadata": {},
     "output_type": "execute_result"
    }
   ],
   "source": [
    "df.duplicated().sum()"
   ]
  },
  {
   "cell_type": "code",
   "execution_count": 8,
   "metadata": {},
   "outputs": [
    {
     "data": {
      "text/plain": [
       "id                       0\n",
       "sex                      0\n",
       "age                      0\n",
       "federal_district         0\n",
       "type_of_city             0\n",
       "knows_election_date      0\n",
       "will_vote                0\n",
       "candidate                0\n",
       "television_usage         0\n",
       "internet_usage           0\n",
       "education                0\n",
       "income                   0\n",
       "employment               0\n",
       "job_type               908\n",
       "company_type           721\n",
       "weight1                  0\n",
       "dtype: int64"
      ]
     },
     "execution_count": 8,
     "metadata": {},
     "output_type": "execute_result"
    }
   ],
   "source": [
    "df.isnull().sum()"
   ]
  },
  {
   "cell_type": "code",
   "execution_count": 9,
   "metadata": {},
   "outputs": [
    {
     "data": {
      "text/plain": [
       "array([nan, 'commercial organization', 'law enforcement agency',\n",
       "       'government agency', 'government, management, judicial bodies',\n",
       "       'non-profit agency', 'hard to say'], dtype=object)"
      ]
     },
     "execution_count": 9,
     "metadata": {},
     "output_type": "execute_result"
    }
   ],
   "source": [
    "df.job_type.unique()"
   ]
  },
  {
   "cell_type": "code",
   "execution_count": 10,
   "metadata": {},
   "outputs": [],
   "source": [
    "df_copy=df.copy()"
   ]
  },
  {
   "cell_type": "code",
   "execution_count": 11,
   "metadata": {},
   "outputs": [],
   "source": [
    "df_copy.dropna(inplace=True)"
   ]
  },
  {
   "cell_type": "code",
   "execution_count": 12,
   "metadata": {},
   "outputs": [
    {
     "data": {
      "text/plain": [
       "id                     0\n",
       "sex                    0\n",
       "age                    0\n",
       "federal_district       0\n",
       "type_of_city           0\n",
       "knows_election_date    0\n",
       "will_vote              0\n",
       "candidate              0\n",
       "television_usage       0\n",
       "internet_usage         0\n",
       "education              0\n",
       "income                 0\n",
       "employment             0\n",
       "job_type               0\n",
       "company_type           0\n",
       "weight1                0\n",
       "dtype: int64"
      ]
     },
     "execution_count": 12,
     "metadata": {},
     "output_type": "execute_result"
    }
   ],
   "source": [
    "df_copy.isnull().sum()"
   ]
  },
  {
   "cell_type": "code",
   "execution_count": 13,
   "metadata": {},
   "outputs": [
    {
     "name": "stdout",
     "output_type": "stream",
     "text": [
      "<class 'pandas.core.frame.DataFrame'>\n",
      "Index: 670 entries, 1 to 1598\n",
      "Data columns (total 16 columns):\n",
      " #   Column               Non-Null Count  Dtype  \n",
      "---  ------               --------------  -----  \n",
      " 0   id                   670 non-null    object \n",
      " 1   sex                  670 non-null    object \n",
      " 2   age                  670 non-null    float64\n",
      " 3   federal_district     670 non-null    object \n",
      " 4   type_of_city         670 non-null    object \n",
      " 5   knows_election_date  670 non-null    object \n",
      " 6   will_vote            670 non-null    object \n",
      " 7   candidate            670 non-null    object \n",
      " 8   television_usage     670 non-null    object \n",
      " 9   internet_usage       670 non-null    object \n",
      " 10  education            670 non-null    object \n",
      " 11  income               670 non-null    object \n",
      " 12  employment           670 non-null    object \n",
      " 13  job_type             670 non-null    object \n",
      " 14  company_type         670 non-null    object \n",
      " 15  weight1              670 non-null    float64\n",
      "dtypes: float64(2), object(14)\n",
      "memory usage: 89.0+ KB\n"
     ]
    }
   ],
   "source": [
    "df_copy.info()"
   ]
  },
  {
   "cell_type": "code",
   "execution_count": 14,
   "metadata": {},
   "outputs": [
    {
     "data": {
      "text/plain": [
       "0         very high\n",
       "1         very high\n",
       "2         very high\n",
       "3         very high\n",
       "4         very high\n",
       "           ...     \n",
       "1595    hard to say\n",
       "1596    hard to say\n",
       "1597    hard to say\n",
       "1598    hard to say\n",
       "1599    hard to say\n",
       "Name: income, Length: 1600, dtype: object"
      ]
     },
     "execution_count": 14,
     "metadata": {},
     "output_type": "execute_result"
    }
   ],
   "source": [
    "df.income"
   ]
  },
  {
   "cell_type": "code",
   "execution_count": 16,
   "metadata": {},
   "outputs": [
    {
     "data": {
      "text/plain": [
       "Index(['id', 'sex', 'age', 'federal_district', 'type_of_city',\n",
       "       'knows_election_date', 'will_vote', 'candidate', 'television_usage',\n",
       "       'internet_usage', 'education', 'income', 'employment', 'job_type',\n",
       "       'company_type', 'weight1'],\n",
       "      dtype='object')"
      ]
     },
     "execution_count": 16,
     "metadata": {},
     "output_type": "execute_result"
    }
   ],
   "source": [
    "df_copy.columns"
   ]
  },
  {
   "cell_type": "code",
   "execution_count": 46,
   "metadata": {},
   "outputs": [
    {
     "data": {
      "image/png": "[encoded data removed]",
      "text/plain": [
       "<Figure size 1000x800 with 1 Axes>"
      ]
     },
     "metadata": {},
     "output_type": "display_data"
    }
   ],
   "source": [
    "plt.figure(figsize=(10,8))\n",
    "sns.boxplot(x='will_vote', y='age', data=df,palette='coolwarm',hue='sex')\n",
    "plt.title('VOTE ACCORDING TO AGE')\n",
    "plt.show()\n"
   ]
  },
  {
   "cell_type": "markdown",
   "metadata": {},
   "source": [
    "Vote according to age  \n",
    "age        will_vote          sex \n",
    "32 -52 -   not sure            m\n",
    "32 - 64    not sure            f\n",
    "38-60      definitely_yes      m\n",
    "42-70      definitely_yes      f\n",
    "28-50     likely no            m\n",
    "25-55     likely no            f\n",
    "34-50     definitely no        m\n",
    "37-60     definitely no        f\n",
    "32-55     likely yes           m\n",
    "32-62     likely yes           f\n",
    "36-45     struggle to answer   m\n",
    "52-70     struggle to answer   f\n",
    "\n",
    "\n",
    "\n"
   ]
  },
  {
   "cell_type": "code",
   "execution_count": null,
   "metadata": {},
   "outputs": [],
   "source": [
    "#Vote according to age  \n",
    "#age        will_vote          sex \n",
    "#32 -52 -   not sure            m\n",
    "#32 - 64    not sure            f\n",
    "#38-60      definitely_yes      m\n",
    "#42-70      definitely_yes      f\n",
    "#28-50     likely no            m\n",
    "#25-55     likely no            f\n",
    "#34-50     definitely no        m\n",
    "#37-60     definitely no        f\n",
    "#32-55     likely yes           m\n",
    "#32-62     likely yes           f\n",
    "#36-45     struggle to answer   m\n",
    "#52-70     struggle to answer   f\n",
    "\n",
    "\n"
   ]
  },
  {
   "cell_type": "code",
   "execution_count": 45,
   "metadata": {},
   "outputs": [
    {
     "data": {
      "image/png": "[encoded data removed]",
      "text/plain": [
       "<Figure size 1000x800 with 1 Axes>"
      ]
     },
     "metadata": {},
     "output_type": "display_data"
    }
   ],
   "source": [
    "plt.figure(figsize=(10,8))\n",
    "sns.boxplot(x='will_vote', y='age', data=df_copy,palette='coolwarm',hue='sex')\n",
    "plt.title('VOTE ACCORDING TO AGE')\n",
    "plt.show()\n"
   ]
  },
  {
   "cell_type": "code",
   "execution_count": 43,
   "metadata": {},
   "outputs": [
    {
     "data": {
      "image/png": "[encoded data removed]",
      "text/plain": [
       "<Figure size 1000x800 with 1 Axes>"
      ]
     },
     "metadata": {},
     "output_type": "display_data"
    }
   ],
   "source": [
    "plt.figure(figsize=(10,8))\n",
    "sns.countplot(x='candidate', hue='sex', data=df_copy,palette='pastel')\n",
    "plt.title('gender vote count for candidates')\n",
    "plt.show()\n"
   ]
  },
  {
   "cell_type": "markdown",
   "metadata": {},
   "source": [
    "there is more male voters for putain than female "
   ]
  },
  {
   "cell_type": "code",
   "execution_count": 48,
   "metadata": {},
   "outputs": [
    {
     "data": {
      "text/plain": [
       "<Axes: xlabel='candidate', ylabel='age'>"
      ]
     },
     "execution_count": 48,
     "metadata": {},
     "output_type": "execute_result"
    },
    {
     "data": {
      "image/png": "[encoded data removed]",
      "text/plain": [
       "<Figure size 1500x1000 with 1 Axes>"
      ]
     },
     "metadata": {},
     "output_type": "display_data"
    }
   ],
   "source": [
    "plt.figure(figsize=(15,10))\n",
    "sns.boxplot(x='candidate',y='age',data=df_copy,palette='coolwarm',hue='type_of_city')"
   ]
  },
  {
   "cell_type": "code",
   "execution_count": 49,
   "metadata": {},
   "outputs": [
    {
     "data": {
      "text/plain": [
       "Index(['id', 'sex', 'age', 'federal_district', 'type_of_city',\n",
       "       'knows_election_date', 'will_vote', 'candidate', 'television_usage',\n",
       "       'internet_usage', 'education', 'income', 'employment', 'job_type',\n",
       "       'company_type', 'weight1'],\n",
       "      dtype='object')"
      ]
     },
     "execution_count": 49,
     "metadata": {},
     "output_type": "execute_result"
    }
   ],
   "source": [
    "df.columns"
   ]
  },
  {
   "cell_type": "code",
   "execution_count": 73,
   "metadata": {},
   "outputs": [
    {
     "data": {
      "text/plain": [
       "<Axes: ylabel='count'>"
      ]
     },
     "execution_count": 73,
     "metadata": {},
     "output_type": "execute_result"
    },
    {
     "data": {
      "image/png": "[encoded data removed]",
      "text/plain": [
       "<Figure size 2000x1200 with 1 Axes>"
      ]
     },
     "metadata": {},
     "output_type": "display_data"
    }
   ],
   "source": [
    "plt.figure(figsize=(20,12))\n",
    "df_copy.will_vote.value_counts().plot.pie(autopct='%1.1f%%',shadow=True)\n"
   ]
  },
  {
   "cell_type": "markdown",
   "metadata": {},
   "source": [
    "this shows mostly people will vote"
   ]
  },
  {
   "cell_type": "code",
   "execution_count": 74,
   "metadata": {},
   "outputs": [
    {
     "data": {
      "text/plain": [
       "<Axes: ylabel='count'>"
      ]
     },
     "execution_count": 74,
     "metadata": {},
     "output_type": "execute_result"
    },
    {
     "data": {
      "image/png": "[encoded data removed]",
      "text/plain": [
       "<Figure size 2000x1200 with 1 Axes>"
      ]
     },
     "metadata": {},
     "output_type": "display_data"
    }
   ],
   "source": [
    "plt.figure(figsize=(20,12))\n",
    "df_copy.candidate.value_counts().plot.pie(autopct='%1.1f%%',startangle=90,shadow=True)\n"
   ]
  },
  {
   "cell_type": "markdown",
   "metadata": {},
   "source": [
    "This shows mostly people want to vote putain than other candidate"
   ]
  },
  {
   "cell_type": "code",
   "execution_count": 59,
   "metadata": {},
   "outputs": [
    {
     "data": {
      "application/vnd.plotly.v1+json": {
       "config": {
        "plotlyServerURL": "https://plot.ly"
       },
       "data": [
        {
         "hovertemplate": "type_of_city=village<br>television_usage=%{x}<br>will_vote=%{y}<br>candidate=%{z}<extra></extra>",
         "legendgroup": "village",
         "marker": {
          "color": "#636efa",
          "symbol": "circle"
         },
         "mode": "markers",
         "name": "village",
         "scene": "scene",
         "showlegend": true,
         "type": "scatter3d",
         "x": [
          "once half a year",
          "does not watch",
          "does not watch",
          "over 4 hours a day",
          "once half a year",
          "less than 4 hours a day",
          "does not watch",
          "does not watch",
          "does not watch",
          "once half a year",
          "less than 4 hours a day",
          "over 4 hours a day",
          "less than 4 hours a day",
          "less than 4 hours a day",
          "less than 4 hours a day",
          "less than 4 hours a day",
          "several times a week",
          "does not watch",
          "over 4 hours a day",
          "does not watch",
          "over 4 hours a day",
          "does not watch",
          "several times a month",
          "less than 4 hours a day",
          "several times a month",
          "less than 4 hours a day",
          "over 4 hours a day",
          "less than 4 hours a day",
          "less than 4 hours a day",
          "less than 4 hours a day",
          "does not watch",
          "does not watch",
          "less than 4 hours a day",
          "less than 4 hours a day",
          "less than 4 hours a day",
          "several times a week",
          "over 4 hours a day",
          "less than 4 hours a day",
          "less than 4 hours a day",
          "over 4 hours a day",
          "over 4 hours a day",
          "less than 4 hours a day",
          "over 4 hours a day",
          "does not watch",
          "over 4 hours a day",
          "does not watch",
          "several times a week",
          "does not watch",
          "over 4 hours a day",
          "less than 4 hours a day",
          "several times a week",
          "once half a year",
          "less than 4 hours a day",
          "does not watch",
          "several times a week",
          "several times a week",
          "several times a week",
          "several times a week",
          "once half a year",
          "does not watch",
          "less than 4 hours a day",
          "less than 4 hours a day",
          "several times a week",
          "less than 4 hours a day",
          "over 4 hours a day",
          "several times a month",
          "several times a week",
          "less than 4 hours a day",
          "several times a week",
          "over 4 hours a day",
          "over 4 hours a day",
          "less than 4 hours a day",
          "does not watch",
          "less than 4 hours a day",
          "several times a week",
          "several times a week",
          "less than 4 hours a day",
          "several times a week",
          "does not watch",
          "over 4 hours a day",
          "several times a month",
          "less than 4 hours a day",
          "does not watch",
          "less than 4 hours a day",
          "less than 4 hours a day",
          "less than 4 hours a day",
          "several times a week",
          "does not watch",
          "does not watch",
          "once half a year",
          "several times a week",
          "less than 4 hours a day",
          "less than 4 hours a day",
          "less than 4 hours a day",
          "does not watch",
          "several times a week",
          "over 4 hours a day",
          "does not watch",
          "several times a week",
          "less than 4 hours a day",
          "less than 4 hours a day",
          "less than 4 hours a day",
          "over 4 hours a day",
          "several times a week",
          "several times a week",
          "less than 4 hours a day",
          "less than 4 hours a day",
          "less than 4 hours a day",
          "several times a week",
          "less than 4 hours a day",
          "over 4 hours a day",
          "over 4 hours a day",
          "several times a week",
          "less than 4 hours a day",
          "less than 4 hours a day",
          "several times a week",
          "less than 4 hours a day",
          "over 4 hours a day",
          "several times a week",
          "over 4 hours a day",
          "less than 4 hours a day",
          "less than 4 hours a day",
          "less than 4 hours a day",
          "does not watch",
          "does not watch",
          "several times a week",
          "several times a month",
          "over 4 hours a day",
          "does not watch"
         ],
         "y": [
          "not sure",
          "definitely yes",
          "not sure",
          "not sure",
          "not sure",
          "not sure",
          "definitely yes",
          "definitely yes",
          "definitely yes",
          "definitely yes",
          "not sure",
          "likely yes",
          "definitely yes",
          "definitely yes",
          "likely yes",
          "definitely yes",
          "definitely yes",
          "definitely yes",
          "definitely yes",
          "definitely yes",
          "definitely yes",
          "definitely yes",
          "definitely yes",
          "definitely yes",
          "definitely yes",
          "definitely yes",
          "definitely yes",
          "definitely yes",
          "definitely no",
          "definitely yes",
          "definitely yes",
          "definitely yes",
          "definitely yes",
          "definitely yes",
          "definitely yes",
          "definitely yes",
          "definitely yes",
          "definitely yes",
          "definitely yes",
          "definitely yes",
          "definitely yes",
          "definitely yes",
          "definitely yes",
          "likely yes",
          "definitely yes",
          "likely yes",
          "definitely yes",
          "not sure",
          "definitely yes",
          "definitely yes",
          "likely yes",
          "definitely yes",
          "definitely yes",
          "definitely yes",
          "likely yes",
          "likely yes",
          "definitely yes",
          "definitely yes",
          "definitely yes",
          "likely yes",
          "definitely yes",
          "definitely yes",
          "definitely no",
          "definitely yes",
          "definitely yes",
          "likely no",
          "definitely yes",
          "definitely yes",
          "definitely no",
          "definitely yes",
          "likely yes",
          "definitely yes",
          "definitely yes",
          "definitely yes",
          "definitely yes",
          "definitely yes",
          "likely yes",
          "definitely yes",
          "definitely yes",
          "definitely yes",
          "definitely yes",
          "definitely yes",
          "definitely no",
          "definitely yes",
          "definitely yes",
          "not sure",
          "definitely yes",
          "definitely yes",
          "not sure",
          "definitely yes",
          "definitely yes",
          "likely no",
          "likely no",
          "definitely yes",
          "definitely yes",
          "not sure",
          "not sure",
          "definitely no",
          "definitely yes",
          "definitely yes",
          "likely yes",
          "definitely yes",
          "definitely yes",
          "definitely yes",
          "not sure",
          "likely yes",
          "definitely no",
          "not sure",
          "definitely yes",
          "definitely yes",
          "definitely yes",
          "definitely yes",
          "definitely no",
          "definitely yes",
          "definitely yes",
          "likely no",
          "not sure",
          "definitely yes",
          "definitely yes",
          "definitely yes",
          "definitely no",
          "definitely yes",
          "definitely yes",
          "definitely yes",
          "definitely no",
          "definitely yes",
          "struggle to answer",
          "definitely yes",
          "not sure"
         ],
         "z": [
          "Putin",
          "Putin",
          "struggle to answer",
          "Putin",
          "Putin",
          "struggle to answer",
          "Kharitonov",
          "struggle to answer",
          "Putin",
          "Putin",
          "Putin",
          "Putin",
          "Putin",
          "Putin",
          "Putin",
          "Putin",
          "Putin",
          "Putin",
          "Putin",
          "struggle to answer",
          "Putin",
          "Putin",
          "Putin",
          "Putin",
          "Putin",
          "Putin",
          "Putin",
          "Putin",
          "will not take part",
          "Putin",
          "struggle to answer",
          "Putin",
          "Davankov",
          "Putin",
          "Putin",
          "Putin",
          "Putin",
          "Putin",
          "Putin",
          "struggle to answer",
          "Putin",
          "Putin",
          "Putin",
          "Putin",
          "Putin",
          "Putin",
          "Putin",
          "Putin",
          "Putin",
          "Putin",
          "Putin",
          "struggle to answer",
          "Putin",
          "struggle to answer",
          "Putin",
          "Putin",
          "Putin",
          "Putin",
          "Putin",
          "Putin",
          "Putin",
          "Putin",
          "will not take part",
          "Putin",
          "struggle to answer",
          "will not take part",
          "Putin",
          "will not take part",
          "Putin",
          "Putin",
          "Putin",
          "Putin",
          "Putin",
          "Putin",
          "struggle to answer",
          "Putin",
          "Slutskiy",
          "Slutskiy",
          "Kharitonov",
          "Putin",
          "Davankov",
          "struggle to answer",
          "will not take part",
          "Putin",
          "Putin",
          "Putin",
          "Putin",
          "Putin",
          "struggle to answer",
          "Putin",
          "struggle to answer",
          "Putin",
          "Putin",
          "Putin",
          "Putin",
          "Putin",
          "Slutskiy",
          "will not take part",
          "struggle to answer",
          "Putin",
          "Putin",
          "Putin",
          "Putin",
          "Putin",
          "Putin",
          "Putin",
          "Putin",
          "Slutskiy",
          "Putin",
          "Putin",
          "Putin",
          "Putin",
          "Kharitonov",
          "Putin",
          "Putin",
          "Putin",
          "Davankov",
          "Putin",
          "Putin",
          "struggle to answer",
          "will not take part",
          "Putin",
          "Putin",
          "spoilt vote",
          "will not take part",
          "Putin",
          "Kharitonov",
          "Slutskiy",
          "Putin"
         ]
        },
        {
         "hovertemplate": "type_of_city=city with population of less than 50k<br>television_usage=%{x}<br>will_vote=%{y}<br>candidate=%{z}<extra></extra>",
         "legendgroup": "city with population of less than 50k",
         "marker": {
          "color": "#EF553B",
          "symbol": "circle"
         },
         "mode": "markers",
         "name": "city with population of less than 50k",
         "scene": "scene",
         "showlegend": true,
         "type": "scatter3d",
         "x": [
          "several times a week",
          "once half a year",
          "less than 4 hours a day",
          "less than 4 hours a day",
          "does not watch",
          "does not watch",
          "less than 4 hours a day",
          "over 4 hours a day",
          "several times a week",
          "less than 4 hours a day",
          "less than 4 hours a day",
          "over 4 hours a day",
          "less than 4 hours a day",
          "several times a week",
          "several times a week",
          "several times a week",
          "once half a year",
          "less than 4 hours a day",
          "less than 4 hours a day",
          "less than 4 hours a day",
          "does not watch",
          "over 4 hours a day",
          "does not watch",
          "less than 4 hours a day",
          "less than 4 hours a day",
          "does not watch",
          "several times a week",
          "once half a year",
          "does not watch",
          "less than 4 hours a day",
          "over 4 hours a day",
          "does not watch",
          "does not watch",
          "less than 4 hours a day",
          "does not watch",
          "does not watch",
          "less than 4 hours a day",
          "less than 4 hours a day",
          "several times a week",
          "less than 4 hours a day",
          "over 4 hours a day",
          "several times a week",
          "several times a week",
          "less than 4 hours a day",
          "does not watch",
          "less than 4 hours a day",
          "over 4 hours a day",
          "less than 4 hours a day",
          "over 4 hours a day",
          "several times a week",
          "less than 4 hours a day",
          "over 4 hours a day",
          "several times a week",
          "several times a week",
          "less than 4 hours a day",
          "does not watch",
          "several times a month",
          "less than 4 hours a day",
          "over 4 hours a day",
          "does not watch",
          "less than 4 hours a day",
          "less than 4 hours a day",
          "less than 4 hours a day",
          "does not watch",
          "less than 4 hours a day",
          "once half a year",
          "over 4 hours a day",
          "over 4 hours a day",
          "over 4 hours a day",
          "does not watch",
          "several times a week",
          "over 4 hours a day",
          "once half a year",
          "over 4 hours a day",
          "several times a week",
          "does not watch",
          "over 4 hours a day"
         ],
         "y": [
          "definitely yes",
          "definitely yes",
          "definitely yes",
          "definitely yes",
          "definitely yes",
          "definitely yes",
          "definitely yes",
          "likely yes",
          "likely yes",
          "definitely yes",
          "definitely yes",
          "likely yes",
          "definitely yes",
          "definitely yes",
          "definitely yes",
          "definitely yes",
          "definitely yes",
          "definitely yes",
          "not sure",
          "definitely yes",
          "definitely yes",
          "definitely yes",
          "likely no",
          "likely yes",
          "likely no",
          "definitely yes",
          "definitely yes",
          "not sure",
          "definitely no",
          "not sure",
          "definitely yes",
          "definitely yes",
          "definitely yes",
          "definitely yes",
          "likely yes",
          "definitely yes",
          "definitely yes",
          "definitely no",
          "likely yes",
          "definitely yes",
          "definitely yes",
          "definitely yes",
          "not sure",
          "not sure",
          "definitely yes",
          "definitely yes",
          "definitely yes",
          "definitely yes",
          "definitely yes",
          "definitely yes",
          "definitely yes",
          "likely yes",
          "definitely yes",
          "definitely yes",
          "likely yes",
          "definitely yes",
          "definitely yes",
          "definitely yes",
          "definitely yes",
          "definitely yes",
          "definitely yes",
          "definitely yes",
          "definitely yes",
          "definitely yes",
          "definitely yes",
          "definitely yes",
          "definitely yes",
          "definitely yes",
          "likely no",
          "likely no",
          "not sure",
          "likely no",
          "definitely yes",
          "definitely yes",
          "not sure",
          "definitely no",
          "definitely yes"
         ],
         "z": [
          "Putin",
          "Putin",
          "Putin",
          "Putin",
          "Putin",
          "struggle to answer",
          "Putin",
          "Putin",
          "Putin",
          "Putin",
          "Putin",
          "Putin",
          "Putin",
          "Putin",
          "Putin",
          "Putin",
          "Slutskiy",
          "Putin",
          "Putin",
          "Putin",
          "Putin",
          "Putin",
          "Putin",
          "Kharitonov",
          "Putin",
          "Putin",
          "Davankov",
          "Putin",
          "will not take part",
          "Putin",
          "Putin",
          "Putin",
          "Putin",
          "Putin",
          "Putin",
          "spoilt vote",
          "Putin",
          "will not take part",
          "Putin",
          "Putin",
          "Putin",
          "Putin",
          "will not take part",
          "Kharitonov",
          "Putin",
          "Putin",
          "Putin",
          "Putin",
          "Putin",
          "Putin",
          "Putin",
          "Putin",
          "Putin",
          "Putin",
          "Putin",
          "spoilt vote",
          "Putin",
          "Putin",
          "Putin",
          "Putin",
          "Putin",
          "Putin",
          "Putin",
          "struggle to answer",
          "Putin",
          "Putin",
          "Putin",
          "Putin",
          "will not take part",
          "will not take part",
          "Putin",
          "will not take part",
          "Putin",
          "Putin",
          "Putin",
          "will not take part",
          "Putin"
         ]
        },
        {
         "hovertemplate": "type_of_city=city with population of 1 million and higher<br>television_usage=%{x}<br>will_vote=%{y}<br>candidate=%{z}<extra></extra>",
         "legendgroup": "city with population of 1 million and higher",
         "marker": {
          "color": "#00cc96",
          "symbol": "circle"
         },
         "mode": "markers",
         "name": "city with population of 1 million and higher",
         "scene": "scene",
         "showlegend": true,
         "type": "scatter3d",
         "x": [
          "does not watch",
          "does not watch",
          "does not watch",
          "does not watch",
          "does not watch",
          "does not watch",
          "less than 4 hours a day",
          "once half a year",
          "does not watch",
          "over 4 hours a day",
          "does not watch",
          "over 4 hours a day",
          "several times a month",
          "several times a month",
          "does not watch",
          "once half a year",
          "does not watch",
          "once half a year",
          "over 4 hours a day",
          "does not watch",
          "less than 4 hours a day",
          "does not watch",
          "several times a month",
          "once half a year",
          "less than 4 hours a day",
          "less than 4 hours a day",
          "less than 4 hours a day",
          "does not watch",
          "does not watch",
          "less than 4 hours a day",
          "several times a month",
          "less than 4 hours a day",
          "does not watch",
          "does not watch",
          "less than 4 hours a day",
          "less than 4 hours a day",
          "does not watch",
          "less than 4 hours a day",
          "less than 4 hours a day",
          "less than 4 hours a day",
          "less than 4 hours a day",
          "over 4 hours a day",
          "does not watch",
          "less than 4 hours a day",
          "over 4 hours a day",
          "less than 4 hours a day",
          "less than 4 hours a day",
          "does not watch",
          "several times a week",
          "once half a year",
          "does not watch",
          "several times a week",
          "does not watch",
          "does not watch",
          "does not watch",
          "over 4 hours a day",
          "does not watch",
          "several times a week",
          "several times a week",
          "does not watch",
          "several times a week",
          "several times a week",
          "several times a week",
          "does not watch",
          "does not watch",
          "once half a year",
          "less than 4 hours a day",
          "does not watch",
          "does not watch",
          "does not watch",
          "does not watch",
          "does not watch",
          "does not watch",
          "once half a year",
          "several times a week",
          "does not watch",
          "several times a week",
          "less than 4 hours a day",
          "less than 4 hours a day",
          "does not watch",
          "over 4 hours a day",
          "several times a week",
          "does not watch",
          "less than 4 hours a day",
          "over 4 hours a day",
          "several times a week",
          "less than 4 hours a day",
          "does not watch",
          "once half a year",
          "several times a month",
          "does not watch",
          "does not watch",
          "less than 4 hours a day",
          "once half a year",
          "several times a month",
          "less than 4 hours a day",
          "several times a week",
          "does not watch",
          "does not watch",
          "less than 4 hours a day",
          "less than 4 hours a day",
          "less than 4 hours a day",
          "over 4 hours a day",
          "several times a week",
          "does not watch",
          "several times a week",
          "does not watch",
          "does not watch",
          "does not watch",
          "less than 4 hours a day",
          "less than 4 hours a day",
          "several times a week",
          "less than 4 hours a day",
          "several times a month",
          "less than 4 hours a day",
          "over 4 hours a day",
          "less than 4 hours a day",
          "several times a month",
          "less than 4 hours a day",
          "less than 4 hours a day",
          "less than 4 hours a day",
          "does not watch",
          "does not watch",
          "over 4 hours a day",
          "does not watch",
          "less than 4 hours a day",
          "over 4 hours a day",
          "does not watch",
          "does not watch",
          "several times a week",
          "less than 4 hours a day",
          "several times a week",
          "does not watch",
          "does not watch",
          "several times a week",
          "several times a week",
          "over 4 hours a day",
          "several times a week",
          "does not watch",
          "over 4 hours a day",
          "does not watch",
          "several times a week",
          "less than 4 hours a day",
          "several times a week",
          "does not watch",
          "does not watch",
          "less than 4 hours a day",
          "does not watch",
          "does not watch"
         ],
         "y": [
          "definitely yes",
          "not sure",
          "not sure",
          "not sure",
          "likely no",
          "likely yes",
          "definitely yes",
          "definitely yes",
          "definitely yes",
          "not sure",
          "definitely yes",
          "not sure",
          "definitely yes",
          "likely yes",
          "definitely yes",
          "definitely yes",
          "definitely yes",
          "likely no",
          "definitely yes",
          "definitely yes",
          "definitely yes",
          "not sure",
          "definitely yes",
          "definitely yes",
          "definitely yes",
          "definitely yes",
          "definitely no",
          "definitely yes",
          "definitely yes",
          "definitely yes",
          "likely yes",
          "definitely yes",
          "likely yes",
          "definitely yes",
          "likely yes",
          "likely yes",
          "definitely yes",
          "definitely yes",
          "definitely yes",
          "definitely yes",
          "definitely yes",
          "likely yes",
          "likely yes",
          "definitely yes",
          "definitely yes",
          "definitely yes",
          "not sure",
          "definitely no",
          "definitely yes",
          "definitely yes",
          "likely yes",
          "definitely yes",
          "definitely yes",
          "definitely no",
          "definitely no",
          "likely yes",
          "likely yes",
          "not sure",
          "not sure",
          "not sure",
          "definitely yes",
          "definitely yes",
          "likely yes",
          "definitely yes",
          "definitely yes",
          "likely yes",
          "likely no",
          "likely yes",
          "definitely yes",
          "definitely yes",
          "definitely yes",
          "likely yes",
          "definitely yes",
          "definitely yes",
          "definitely yes",
          "definitely yes",
          "definitely yes",
          "not sure",
          "definitely yes",
          "definitely yes",
          "definitely yes",
          "likely yes",
          "not sure",
          "likely yes",
          "definitely yes",
          "definitely yes",
          "definitely yes",
          "definitely yes",
          "definitely yes",
          "likely yes",
          "definitely yes",
          "definitely yes",
          "likely yes",
          "definitely yes",
          "definitely yes",
          "definitely yes",
          "definitely yes",
          "not sure",
          "likely yes",
          "definitely yes",
          "definitely yes",
          "definitely yes",
          "definitely yes",
          "definitely yes",
          "likely no",
          "definitely yes",
          "definitely yes",
          "definitely yes",
          "likely yes",
          "definitely yes",
          "definitely yes",
          "definitely yes",
          "definitely yes",
          "definitely yes",
          "definitely yes",
          "not sure",
          "definitely yes",
          "likely yes",
          "definitely yes",
          "definitely no",
          "definitely yes",
          "definitely no",
          "definitely yes",
          "definitely yes",
          "definitely yes",
          "definitely yes",
          "definitely yes",
          "definitely yes",
          "definitely yes",
          "definitely yes",
          "definitely yes",
          "not sure",
          "likely yes",
          "definitely yes",
          "definitely yes",
          "definitely yes",
          "definitely yes",
          "likely yes",
          "definitely yes",
          "definitely no",
          "definitely yes",
          "definitely yes",
          "likely yes",
          "definitely yes",
          "struggle to answer",
          "definitely yes",
          "definitely yes",
          "definitely yes",
          "likely yes"
         ],
         "z": [
          "Putin",
          "Putin",
          "Putin",
          "Slutskiy",
          "Putin",
          "Davankov",
          "Putin",
          "struggle to answer",
          "Davankov",
          "Putin",
          "Putin",
          "Putin",
          "Putin",
          "Putin",
          "Putin",
          "Davankov",
          "Davankov",
          "will not take part",
          "Davankov",
          "struggle to answer",
          "Putin",
          "struggle to answer",
          "Putin",
          "Putin",
          "Putin",
          "Putin",
          "will not take part",
          "Putin",
          "Putin",
          "Putin",
          "spoilt vote",
          "Kharitonov",
          "Putin",
          "struggle to answer",
          "spoilt vote",
          "Putin",
          "Putin",
          "Putin",
          "struggle to answer",
          "Putin",
          "Putin",
          "struggle to answer",
          "Putin",
          "Putin",
          "Putin",
          "Putin",
          "Slutskiy",
          "will not take part",
          "Putin",
          "will not take part",
          "struggle to answer",
          "Davankov",
          "Davankov",
          "will not take part",
          "will not take part",
          "struggle to answer",
          "Putin",
          "Putin",
          "Putin",
          "Putin",
          "Slutskiy",
          "Putin",
          "will not take part",
          "struggle to answer",
          "Slutskiy",
          "Putin",
          "Putin",
          "Davankov",
          "Davankov",
          "spoilt vote",
          "Slutskiy",
          "Davankov",
          "Putin",
          "spoilt vote",
          "Putin",
          "Davankov",
          "struggle to answer",
          "Putin",
          "Putin",
          "Putin",
          "Putin",
          "struggle to answer",
          "struggle to answer",
          "Putin",
          "Putin",
          "struggle to answer",
          "Putin",
          "struggle to answer",
          "Slutskiy",
          "Putin",
          "Putin",
          "Kharitonov",
          "Putin",
          "struggle to answer",
          "Putin",
          "Putin",
          "Putin",
          "Slutskiy",
          "struggle to answer",
          "Putin",
          "Putin",
          "Putin",
          "Putin",
          "Putin",
          "Kharitonov",
          "Putin",
          "struggle to answer",
          "Putin",
          "Putin",
          "Putin",
          "Putin",
          "Putin",
          "Putin",
          "Putin",
          "Putin",
          "Putin",
          "Putin",
          "Putin",
          "Putin",
          "will not take part",
          "Putin",
          "will not take part",
          "struggle to answer",
          "Putin",
          "struggle to answer",
          "Putin",
          "Putin",
          "Putin",
          "Davankov",
          "Putin",
          "Putin",
          "struggle to answer",
          "Slutskiy",
          "spoilt vote",
          "struggle to answer",
          "Putin",
          "Putin",
          "Putin",
          "struggle to answer",
          "Putin",
          "Davankov",
          "Putin",
          "Putin",
          "Davankov",
          "struggle to answer",
          "Davankov",
          "Kharitonov",
          "Kharitonov",
          "Putin"
         ]
        },
        {
         "hovertemplate": "type_of_city=settlement<br>television_usage=%{x}<br>will_vote=%{y}<br>candidate=%{z}<extra></extra>",
         "legendgroup": "settlement",
         "marker": {
          "color": "#ab63fa",
          "symbol": "circle"
         },
         "mode": "markers",
         "name": "settlement",
         "scene": "scene",
         "showlegend": true,
         "type": "scatter3d",
         "x": [
          "over 4 hours a day",
          "over 4 hours a day",
          "does not watch",
          "several times a week",
          "several times a week",
          "less than 4 hours a day",
          "does not watch",
          "over 4 hours a day",
          "less than 4 hours a day",
          "less than 4 hours a day",
          "less than 4 hours a day",
          "less than 4 hours a day",
          "over 4 hours a day",
          "several times a week",
          "less than 4 hours a day",
          "less than 4 hours a day",
          "less than 4 hours a day",
          "less than 4 hours a day",
          "over 4 hours a day",
          "several times a month",
          "less than 4 hours a day",
          "less than 4 hours a day",
          "less than 4 hours a day",
          "less than 4 hours a day",
          "over 4 hours a day"
         ],
         "y": [
          "definitely yes",
          "definitely no",
          "not sure",
          "likely yes",
          "definitely yes",
          "definitely yes",
          "definitely yes",
          "definitely yes",
          "definitely yes",
          "definitely yes",
          "definitely yes",
          "definitely yes",
          "definitely yes",
          "definitely no",
          "definitely yes",
          "not sure",
          "definitely yes",
          "definitely yes",
          "definitely yes",
          "definitely yes",
          "not sure",
          "definitely yes",
          "likely yes",
          "definitely yes",
          "definitely yes"
         ],
         "z": [
          "Putin",
          "will not take part",
          "struggle to answer",
          "Putin",
          "Putin",
          "Putin",
          "Putin",
          "Putin",
          "Putin",
          "Putin",
          "Putin",
          "Putin",
          "Putin",
          "Kharitonov",
          "Putin",
          "will not take part",
          "Putin",
          "struggle to answer",
          "Putin",
          "Putin",
          "Putin",
          "Putin",
          "spoilt vote",
          "Putin",
          "Slutskiy"
         ]
        },
        {
         "hovertemplate": "type_of_city=city with population of 100-500k<br>television_usage=%{x}<br>will_vote=%{y}<br>candidate=%{z}<extra></extra>",
         "legendgroup": "city with population of 100-500k",
         "marker": {
          "color": "#FFA15A",
          "symbol": "circle"
         },
         "mode": "markers",
         "name": "city with population of 100-500k",
         "scene": "scene",
         "showlegend": true,
         "type": "scatter3d",
         "x": [
          "does not watch",
          "once half a year",
          "does not watch",
          "does not watch",
          "several times a month",
          "does not watch",
          "several times a week",
          "once half a year",
          "does not watch",
          "does not watch",
          "less than 4 hours a day",
          "several times a week",
          "several times a month",
          "several times a week",
          "over 4 hours a day",
          "does not watch",
          "several times a week",
          "several times a week",
          "does not watch",
          "less than 4 hours a day",
          "does not watch",
          "several times a week",
          "less than 4 hours a day",
          "several times a week",
          "once half a year",
          "several times a week",
          "less than 4 hours a day",
          "less than 4 hours a day",
          "less than 4 hours a day",
          "over 4 hours a day",
          "several times a week",
          "less than 4 hours a day",
          "less than 4 hours a day",
          "less than 4 hours a day",
          "several times a month",
          "over 4 hours a day",
          "less than 4 hours a day",
          "does not watch",
          "over 4 hours a day",
          "does not watch",
          "less than 4 hours a day",
          "over 4 hours a day",
          "less than 4 hours a day",
          "less than 4 hours a day",
          "less than 4 hours a day",
          "once half a year",
          "several times a week",
          "over 4 hours a day",
          "does not watch",
          "does not watch",
          "less than 4 hours a day",
          "does not watch",
          "does not watch",
          "once half a year",
          "several times a week",
          "less than 4 hours a day",
          "over 4 hours a day",
          "over 4 hours a day",
          "does not watch",
          "does not watch",
          "does not watch",
          "several times a week",
          "does not watch",
          "several times a week",
          "over 4 hours a day",
          "less than 4 hours a day",
          "does not watch",
          "does not watch",
          "several times a week",
          "once half a year",
          "once half a year",
          "does not watch",
          "does not watch",
          "less than 4 hours a day",
          "several times a month",
          "does not watch",
          "does not watch",
          "less than 4 hours a day",
          "less than 4 hours a day",
          "less than 4 hours a day",
          "several times a week",
          "less than 4 hours a day",
          "over 4 hours a day",
          "does not watch",
          "over 4 hours a day",
          "less than 4 hours a day",
          "less than 4 hours a day",
          "less than 4 hours a day",
          "does not watch",
          "less than 4 hours a day",
          "does not watch",
          "does not watch",
          "less than 4 hours a day",
          "several times a month",
          "several times a week",
          "over 4 hours a day",
          "less than 4 hours a day",
          "does not watch",
          "several times a week",
          "less than 4 hours a day",
          "does not watch",
          "less than 4 hours a day",
          "less than 4 hours a day",
          "does not watch",
          "once half a year",
          "several times a week",
          "does not watch",
          "several times a week",
          "less than 4 hours a day",
          "over 4 hours a day",
          "several times a month",
          "does not watch",
          "several times a month",
          "less than 4 hours a day",
          "less than 4 hours a day",
          "less than 4 hours a day",
          "once half a year",
          "less than 4 hours a day",
          "does not watch",
          "several times a week",
          "less than 4 hours a day",
          "does not watch",
          "less than 4 hours a day",
          "less than 4 hours a day",
          "several times a week",
          "less than 4 hours a day",
          "does not watch",
          "over 4 hours a day",
          "does not watch",
          "less than 4 hours a day",
          "over 4 hours a day",
          "less than 4 hours a day",
          "over 4 hours a day",
          "several times a week",
          "less than 4 hours a day",
          "less than 4 hours a day",
          "less than 4 hours a day",
          "less than 4 hours a day",
          "less than 4 hours a day",
          "does not watch",
          "less than 4 hours a day",
          "less than 4 hours a day",
          "several times a month",
          "less than 4 hours a day",
          "less than 4 hours a day",
          "less than 4 hours a day",
          "several times a month",
          "over 4 hours a day",
          "does not watch",
          "once half a year",
          "several times a week",
          "does not watch",
          "less than 4 hours a day",
          "less than 4 hours a day",
          "does not watch",
          "does not watch",
          "does not watch",
          "less than 4 hours a day",
          "several times a week",
          "several times a week",
          "does not watch",
          "does not watch",
          "does not watch",
          "several times a month",
          "does not watch",
          "less than 4 hours a day",
          "does not watch",
          "does not watch",
          "less than 4 hours a day",
          "over 4 hours a day",
          "once half a year",
          "several times a month",
          "less than 4 hours a day",
          "several times a month"
         ],
         "y": [
          "definitely yes",
          "definitely yes",
          "definitely yes",
          "likely yes",
          "definitely yes",
          "not sure",
          "definitely yes",
          "not sure",
          "definitely yes",
          "definitely yes",
          "definitely no",
          "likely yes",
          "not sure",
          "likely yes",
          "definitely yes",
          "definitely yes",
          "definitely yes",
          "definitely yes",
          "definitely yes",
          "definitely yes",
          "definitely yes",
          "likely yes",
          "definitely no",
          "definitely yes",
          "likely yes",
          "definitely yes",
          "definitely yes",
          "definitely yes",
          "definitely yes",
          "definitely yes",
          "definitely yes",
          "definitely yes",
          "definitely yes",
          "definitely yes",
          "definitely yes",
          "likely no",
          "definitely yes",
          "definitely yes",
          "definitely yes",
          "definitely yes",
          "definitely yes",
          "definitely yes",
          "definitely yes",
          "likely yes",
          "definitely yes",
          "definitely yes",
          "definitely yes",
          "likely yes",
          "definitely yes",
          "likely no",
          "likely yes",
          "definitely no",
          "definitely yes",
          "likely no",
          "definitely yes",
          "likely yes",
          "likely yes",
          "definitely yes",
          "definitely yes",
          "not sure",
          "definitely yes",
          "definitely yes",
          "definitely no",
          "definitely yes",
          "definitely yes",
          "likely yes",
          "definitely yes",
          "likely yes",
          "definitely no",
          "not sure",
          "likely yes",
          "definitely yes",
          "likely yes",
          "likely yes",
          "definitely yes",
          "definitely yes",
          "definitely yes",
          "likely no",
          "definitely yes",
          "definitely yes",
          "definitely yes",
          "definitely yes",
          "definitely no",
          "definitely yes",
          "definitely yes",
          "definitely yes",
          "definitely yes",
          "definitely yes",
          "not sure",
          "definitely yes",
          "definitely yes",
          "likely no",
          "definitely no",
          "definitely yes",
          "likely yes",
          "definitely yes",
          "likely no",
          "definitely yes",
          "likely yes",
          "likely yes",
          "definitely yes",
          "definitely yes",
          "likely yes",
          "definitely yes",
          "likely yes",
          "definitely yes",
          "definitely yes",
          "not sure",
          "definitely yes",
          "definitely yes",
          "not sure",
          "definitely yes",
          "definitely yes",
          "definitely yes",
          "definitely yes",
          "definitely yes",
          "definitely yes",
          "definitely no",
          "likely no",
          "likely yes",
          "likely no",
          "definitely yes",
          "definitely no",
          "likely yes",
          "likely no",
          "definitely yes",
          "not sure",
          "struggle to answer",
          "definitely yes",
          "definitely yes",
          "definitely yes",
          "definitely yes",
          "definitely yes",
          "definitely yes",
          "definitely yes",
          "likely yes",
          "definitely yes",
          "definitely yes",
          "likely yes",
          "likely yes",
          "definitely yes",
          "likely yes",
          "definitely yes",
          "definitely yes",
          "definitely yes",
          "definitely yes",
          "likely yes",
          "definitely yes",
          "definitely yes",
          "not sure",
          "definitely yes",
          "definitely yes",
          "definitely yes",
          "likely yes",
          "definitely yes",
          "definitely yes",
          "likely no",
          "likely yes",
          "definitely yes",
          "definitely no",
          "likely no",
          "definitely yes",
          "not sure",
          "not sure",
          "definitely yes",
          "definitely yes",
          "definitely yes",
          "definitely yes",
          "definitely yes",
          "definitely yes",
          "definitely yes",
          "not sure",
          "definitely no",
          "not sure"
         ],
         "z": [
          "Putin",
          "spoilt vote",
          "Putin",
          "Putin",
          "Putin",
          "struggle to answer",
          "Putin",
          "Putin",
          "Davankov",
          "struggle to answer",
          "will not take part",
          "Putin",
          "Putin",
          "Putin",
          "Putin",
          "Putin",
          "Putin",
          "Putin",
          "struggle to answer",
          "Putin",
          "Putin",
          "Slutskiy",
          "will not take part",
          "Putin",
          "struggle to answer",
          "Putin",
          "Slutskiy",
          "Putin",
          "Putin",
          "Putin",
          "struggle to answer",
          "Putin",
          "struggle to answer",
          "Kharitonov",
          "Putin",
          "Putin",
          "Putin",
          "Putin",
          "Putin",
          "Putin",
          "Putin",
          "Putin",
          "Putin",
          "Slutskiy",
          "Putin",
          "Putin",
          "Putin",
          "Slutskiy",
          "Putin",
          "Davankov",
          "Putin",
          "will not take part",
          "Putin",
          "Slutskiy",
          "Putin",
          "Putin",
          "Putin",
          "Putin",
          "Putin",
          "struggle to answer",
          "Putin",
          "struggle to answer",
          "will not take part",
          "Davankov",
          "Putin",
          "Putin",
          "Davankov",
          "struggle to answer",
          "Putin",
          "Putin",
          "Putin",
          "Davankov",
          "Putin",
          "Putin",
          "Putin",
          "struggle to answer",
          "Putin",
          "struggle to answer",
          "Putin",
          "Putin",
          "Putin",
          "Putin",
          "will not take part",
          "Kharitonov",
          "Putin",
          "Putin",
          "Putin",
          "Putin",
          "struggle to answer",
          "Putin",
          "Putin",
          "Putin",
          "Putin",
          "Putin",
          "Kharitonov",
          "Slutskiy",
          "will not take part",
          "Slutskiy",
          "Davankov",
          "Putin",
          "Putin",
          "Putin",
          "Putin",
          "struggle to answer",
          "Putin",
          "Putin",
          "Putin",
          "Putin",
          "Putin",
          "Putin",
          "struggle to answer",
          "Slutskiy",
          "Putin",
          "Putin",
          "Putin",
          "struggle to answer",
          "Putin",
          "will not take part",
          "will not take part",
          "Putin",
          "will not take part",
          "Putin",
          "Putin",
          "Putin",
          "will not take part",
          "struggle to answer",
          "Putin",
          "Putin",
          "struggle to answer",
          "Slutskiy",
          "Putin",
          "Putin",
          "Putin",
          "Davankov",
          "Putin",
          "Putin",
          "Slutskiy",
          "Putin",
          "struggle to answer",
          "Putin",
          "Putin",
          "Putin",
          "Davankov",
          "struggle to answer",
          "Putin",
          "Putin",
          "Putin",
          "Putin",
          "Davankov",
          "struggle to answer",
          "Putin",
          "Putin",
          "Putin",
          "struggle to answer",
          "Putin",
          "struggle to answer",
          "will not take part",
          "Putin",
          "Putin",
          "Putin",
          "will not take part",
          "Slutskiy",
          "struggle to answer",
          "Kharitonov",
          "spoilt vote",
          "Putin",
          "spoilt vote",
          "Putin",
          "Putin",
          "Putin",
          "struggle to answer",
          "struggle to answer",
          "Putin",
          "Putin"
         ]
        },
        {
         "hovertemplate": "type_of_city=city with population of 50-100k<br>television_usage=%{x}<br>will_vote=%{y}<br>candidate=%{z}<extra></extra>",
         "legendgroup": "city with population of 50-100k",
         "marker": {
          "color": "#19d3f3",
          "symbol": "circle"
         },
         "mode": "markers",
         "name": "city with population of 50-100k",
         "scene": "scene",
         "showlegend": true,
         "type": "scatter3d",
         "x": [
          "several times a week",
          "several times a month",
          "less than 4 hours a day",
          "does not watch",
          "less than 4 hours a day",
          "several times a week",
          "over 4 hours a day",
          "several times a week",
          "several times a month",
          "less than 4 hours a day",
          "over 4 hours a day",
          "less than 4 hours a day",
          "several times a week",
          "does not watch",
          "does not watch",
          "does not watch",
          "several times a month",
          "does not watch",
          "does not watch",
          "does not watch",
          "several times a week",
          "several times a week",
          "less than 4 hours a day",
          "less than 4 hours a day",
          "several times a month",
          "several times a week",
          "several times a week",
          "once half a year",
          "does not watch",
          "over 4 hours a day",
          "less than 4 hours a day",
          "over 4 hours a day",
          "less than 4 hours a day",
          "less than 4 hours a day",
          "less than 4 hours a day",
          "over 4 hours a day",
          "less than 4 hours a day",
          "over 4 hours a day",
          "less than 4 hours a day",
          "several times a week",
          "does not watch",
          "several times a month",
          "over 4 hours a day",
          "several times a week",
          "over 4 hours a day",
          "less than 4 hours a day"
         ],
         "y": [
          "definitely yes",
          "definitely yes",
          "definitely yes",
          "definitely yes",
          "definitely yes",
          "definitely no",
          "definitely yes",
          "likely yes",
          "definitely yes",
          "likely yes",
          "definitely yes",
          "definitely yes",
          "not sure",
          "not sure",
          "likely yes",
          "not sure",
          "likely yes",
          "definitely no",
          "definitely yes",
          "not sure",
          "not sure",
          "definitely yes",
          "definitely yes",
          "likely yes",
          "not sure",
          "definitely yes",
          "definitely yes",
          "likely yes",
          "likely no",
          "definitely yes",
          "likely yes",
          "definitely yes",
          "definitely yes",
          "likely yes",
          "definitely yes",
          "definitely yes",
          "definitely yes",
          "definitely yes",
          "definitely yes",
          "definitely yes",
          "not sure",
          "definitely yes",
          "definitely yes",
          "definitely yes",
          "definitely yes",
          "definitely yes"
         ],
         "z": [
          "Kharitonov",
          "Putin",
          "Putin",
          "Putin",
          "Putin",
          "Putin",
          "Putin",
          "Putin",
          "Putin",
          "Putin",
          "Putin",
          "Putin",
          "Slutskiy",
          "struggle to answer",
          "Davankov",
          "Putin",
          "Putin",
          "will not take part",
          "Putin",
          "Putin",
          "will not take part",
          "Davankov",
          "Putin",
          "struggle to answer",
          "will not take part",
          "Kharitonov",
          "Putin",
          "Putin",
          "Putin",
          "Putin",
          "Putin",
          "Putin",
          "Putin",
          "struggle to answer",
          "Putin",
          "Putin",
          "Putin",
          "struggle to answer",
          "Putin",
          "Slutskiy",
          "Putin",
          "Kharitonov",
          "spoilt vote",
          "Slutskiy",
          "Davankov",
          "Putin"
         ]
        },
        {
         "hovertemplate": "type_of_city=city with population of 500-950k<br>television_usage=%{x}<br>will_vote=%{y}<br>candidate=%{z}<extra></extra>",
         "legendgroup": "city with population of 500-950k",
         "marker": {
          "color": "#FF6692",
          "symbol": "circle"
         },
         "mode": "markers",
         "name": "city with population of 500-950k",
         "scene": "scene",
         "showlegend": true,
         "type": "scatter3d",
         "x": [
          "over 4 hours a day",
          "does not watch",
          "does not watch",
          "does not watch",
          "over 4 hours a day",
          "several times a week",
          "does not watch",
          "several times a week",
          "does not watch",
          "less than 4 hours a day",
          "several times a week",
          "less than 4 hours a day",
          "several times a week",
          "less than 4 hours a day",
          "over 4 hours a day",
          "does not watch",
          "several times a month",
          "less than 4 hours a day",
          "does not watch",
          "does not watch",
          "over 4 hours a day",
          "does not watch",
          "several times a month",
          "several times a week",
          "once half a year",
          "does not watch",
          "does not watch",
          "several times a month",
          "several times a week",
          "less than 4 hours a day",
          "over 4 hours a day",
          "less than 4 hours a day",
          "several times a month",
          "over 4 hours a day",
          "less than 4 hours a day",
          "over 4 hours a day",
          "less than 4 hours a day",
          "less than 4 hours a day",
          "less than 4 hours a day",
          "over 4 hours a day",
          "over 4 hours a day",
          "several times a week",
          "less than 4 hours a day",
          "over 4 hours a day",
          "does not watch",
          "several times a week",
          "less than 4 hours a day",
          "less than 4 hours a day",
          "over 4 hours a day",
          "less than 4 hours a day",
          "does not watch",
          "over 4 hours a day",
          "several times a week",
          "less than 4 hours a day",
          "less than 4 hours a day",
          "several times a week",
          "several times a week",
          "several times a week",
          "does not watch",
          "less than 4 hours a day",
          "less than 4 hours a day",
          "several times a month",
          "does not watch",
          "less than 4 hours a day",
          "less than 4 hours a day",
          "several times a month",
          "over 4 hours a day",
          "less than 4 hours a day",
          "less than 4 hours a day",
          "does not watch"
         ],
         "y": [
          "definitely yes",
          "not sure",
          "definitely yes",
          "likely no",
          "likely yes",
          "not sure",
          "definitely yes",
          "definitely yes",
          "not sure",
          "definitely yes",
          "definitely yes",
          "definitely yes",
          "definitely yes",
          "likely yes",
          "definitely yes",
          "definitely yes",
          "likely yes",
          "definitely yes",
          "definitely yes",
          "likely yes",
          "not sure",
          "definitely yes",
          "likely no",
          "not sure",
          "likely yes",
          "definitely yes",
          "definitely yes",
          "definitely yes",
          "likely yes",
          "definitely yes",
          "definitely yes",
          "definitely yes",
          "likely yes",
          "definitely yes",
          "definitely yes",
          "definitely yes",
          "definitely yes",
          "definitely yes",
          "definitely no",
          "definitely yes",
          "definitely yes",
          "definitely yes",
          "definitely yes",
          "not sure",
          "definitely yes",
          "definitely yes",
          "definitely yes",
          "definitely yes",
          "likely no",
          "definitely yes",
          "definitely yes",
          "definitely yes",
          "definitely yes",
          "definitely yes",
          "definitely no",
          "definitely no",
          "likely yes",
          "definitely yes",
          "definitely yes",
          "definitely yes",
          "definitely yes",
          "likely yes",
          "definitely yes",
          "definitely no",
          "definitely yes",
          "definitely yes",
          "definitely no",
          "definitely yes",
          "definitely yes",
          "definitely yes"
         ],
         "z": [
          "Putin",
          "struggle to answer",
          "Putin",
          "Putin",
          "Putin",
          "Putin",
          "Putin",
          "Putin",
          "Putin",
          "struggle to answer",
          "Putin",
          "struggle to answer",
          "Putin",
          "Putin",
          "Putin",
          "Putin",
          "Davankov",
          "Putin",
          "Davankov",
          "Davankov",
          "Putin",
          "Slutskiy",
          "Putin",
          "struggle to answer",
          "Davankov",
          "Putin",
          "Putin",
          "struggle to answer",
          "Putin",
          "Putin",
          "Putin",
          "struggle to answer",
          "Kharitonov",
          "Putin",
          "Putin",
          "Putin",
          "Putin",
          "Putin",
          "will not take part",
          "Putin",
          "Putin",
          "Putin",
          "Putin",
          "Putin",
          "Putin",
          "Putin",
          "Putin",
          "struggle to answer",
          "will not take part",
          "Slutskiy",
          "Putin",
          "Putin",
          "Putin",
          "Putin",
          "Putin",
          "will not take part",
          "Putin",
          "Kharitonov",
          "Putin",
          "Putin",
          "Putin",
          "Kharitonov",
          "struggle to answer",
          "will not take part",
          "Putin",
          "Kharitonov",
          "struggle to answer",
          "struggle to answer",
          "Putin",
          "Kharitonov"
         ]
        }
       ],
       "layout": {
        "legend": {
         "title": {
          "text": "type_of_city"
         },
         "tracegroupgap": 0
        },
        "scene": {
         "domain": {
          "x": [
           0,
           1
          ],
          "y": [
           0,
           1
          ]
         },
         "xaxis": {
          "title": {
           "text": "television_usage"
          }
         },
         "yaxis": {
          "title": {
           "text": "will_vote"
          }
         },
         "zaxis": {
          "title": {
           "text": "candidate"
          }
         }
        },
        "template": {
         "data": {
          "bar": [
           {
            "error_x": {
             "color": "#2a3f5f"
            },
            "error_y": {
             "color": "#2a3f5f"
            },
            "marker": {
             "line": {
              "color": "#E5ECF6",
              "width": 0.5
             },
             "pattern": {
              "fillmode": "overlay",
              "size": 10,
              "solidity": 0.2
             }
            },
            "type": "bar"
           }
          ],
          "barpolar": [
           {
            "marker": {
             "line": {
              "color": "#E5ECF6",
              "width": 0.5
             },
             "pattern": {
              "fillmode": "overlay",
              "size": 10,
              "solidity": 0.2
             }
            },
            "type": "barpolar"
           }
          ],
          "carpet": [
           {
            "aaxis": {
             "endlinecolor": "#2a3f5f",
             "gridcolor": "white",
             "linecolor": "white",
             "minorgridcolor": "white",
             "startlinecolor": "#2a3f5f"
            },
            "baxis": {
             "endlinecolor": "#2a3f5f",
             "gridcolor": "white",
             "linecolor": "white",
             "minorgridcolor": "white",
             "startlinecolor": "#2a3f5f"
            },
            "type": "carpet"
           }
          ],
          "choropleth": [
           {
            "colorbar": {
             "outlinewidth": 0,
             "ticks": ""
            },
            "type": "choropleth"
           }
          ],
          "contour": [
           {
            "colorbar": {
             "outlinewidth": 0,
             "ticks": ""
            },
            "colorscale": [
             [
              0,
              "#0d0887"
             ],
             [
              0.1111111111111111,
              "#46039f"
             ],
             [
              0.2222222222222222,
              "#7201a8"
             ],
             [
              0.3333333333333333,
              "#9c179e"
             ],
             [
              0.4444444444444444,
              "#bd3786"
             ],
             [
              0.5555555555555556,
              "#d8576b"
             ],
             [
              0.6666666666666666,
              "#ed7953"
             ],
             [
              0.7777777777777778,
              "#fb9f3a"
             ],
             [
              0.8888888888888888,
              "#fdca26"
             ],
             [
              1,
              "#f0f921"
             ]
            ],
            "type": "contour"
           }
          ],
          "contourcarpet": [
           {
            "colorbar": {
             "outlinewidth": 0,
             "ticks": ""
            },
            "type": "contourcarpet"
           }
          ],
          "heatmap": [
           {
            "colorbar": {
             "outlinewidth": 0,
             "ticks": ""
            },
            "colorscale": [
             [
              0,
              "#0d0887"
             ],
             [
              0.1111111111111111,
              "#46039f"
             ],
             [
              0.2222222222222222,
              "#7201a8"
             ],
             [
              0.3333333333333333,
              "#9c179e"
             ],
             [
              0.4444444444444444,
              "#bd3786"
             ],
             [
              0.5555555555555556,
              "#d8576b"
             ],
             [
              0.6666666666666666,
              "#ed7953"
             ],
             [
              0.7777777777777778,
              "#fb9f3a"
             ],
             [
              0.8888888888888888,
              "#fdca26"
             ],
             [
              1,
              "#f0f921"
             ]
            ],
            "type": "heatmap"
           }
          ],
          "heatmapgl": [
           {
            "colorbar": {
             "outlinewidth": 0,
             "ticks": ""
            },
            "colorscale": [
             [
              0,
              "#0d0887"
             ],
             [
              0.1111111111111111,
              "#46039f"
             ],
             [
              0.2222222222222222,
              "#7201a8"
             ],
             [
              0.3333333333333333,
              "#9c179e"
             ],
             [
              0.4444444444444444,
              "#bd3786"
             ],
             [
              0.5555555555555556,
              "#d8576b"
             ],
             [
              0.6666666666666666,
              "#ed7953"
             ],
             [
              0.7777777777777778,
              "#fb9f3a"
             ],
             [
              0.8888888888888888,
              "#fdca26"
             ],
             [
              1,
              "#f0f921"
             ]
            ],
            "type": "heatmapgl"
           }
          ],
          "histogram": [
           {
            "marker": {
             "pattern": {
              "fillmode": "overlay",
              "size": 10,
              "solidity": 0.2
             }
            },
            "type": "histogram"
           }
          ],
          "histogram2d": [
           {
            "colorbar": {
             "outlinewidth": 0,
             "ticks": ""
            },
            "colorscale": [
             [
              0,
              "#0d0887"
             ],
             [
              0.1111111111111111,
              "#46039f"
             ],
             [
              0.2222222222222222,
              "#7201a8"
             ],
             [
              0.3333333333333333,
              "#9c179e"
             ],
             [
              0.4444444444444444,
              "#bd3786"
             ],
             [
              0.5555555555555556,
              "#d8576b"
             ],
             [
              0.6666666666666666,
              "#ed7953"
             ],
             [
              0.7777777777777778,
              "#fb9f3a"
             ],
             [
              0.8888888888888888,
              "#fdca26"
             ],
             [
              1,
              "#f0f921"
             ]
            ],
            "type": "histogram2d"
           }
          ],
          "histogram2dcontour": [
           {
            "colorbar": {
             "outlinewidth": 0,
             "ticks": ""
            },
            "colorscale": [
             [
              0,
              "#0d0887"
             ],
             [
              0.1111111111111111,
              "#46039f"
             ],
             [
              0.2222222222222222,
              "#7201a8"
             ],
             [
              0.3333333333333333,
              "#9c179e"
             ],
             [
              0.4444444444444444,
              "#bd3786"
             ],
             [
              0.5555555555555556,
              "#d8576b"
             ],
             [
              0.6666666666666666,
              "#ed7953"
             ],
             [
              0.7777777777777778,
              "#fb9f3a"
             ],
             [
              0.8888888888888888,
              "#fdca26"
             ],
             [
              1,
              "#f0f921"
             ]
            ],
            "type": "histogram2dcontour"
           }
          ],
          "mesh3d": [
           {
            "colorbar": {
             "outlinewidth": 0,
             "ticks": ""
            },
            "type": "mesh3d"
           }
          ],
          "parcoords": [
           {
            "line": {
             "colorbar": {
              "outlinewidth": 0,
              "ticks": ""
             }
            },
            "type": "parcoords"
           }
          ],
          "pie": [
           {
            "automargin": true,
            "type": "pie"
           }
          ],
          "scatter": [
           {
            "fillpattern": {
             "fillmode": "overlay",
             "size": 10,
             "solidity": 0.2
            },
            "type": "scatter"
           }
          ],
          "scatter3d": [
           {
            "line": {
             "colorbar": {
              "outlinewidth": 0,
              "ticks": ""
             }
            },
            "marker": {
             "colorbar": {
              "outlinewidth": 0,
              "ticks": ""
             }
            },
            "type": "scatter3d"
           }
          ],
          "scattercarpet": [
           {
            "marker": {
             "colorbar": {
              "outlinewidth": 0,
              "ticks": ""
             }
            },
            "type": "scattercarpet"
           }
          ],
          "scattergeo": [
           {
            "marker": {
             "colorbar": {
              "outlinewidth": 0,
              "ticks": ""
             }
            },
            "type": "scattergeo"
           }
          ],
          "scattergl": [
           {
            "marker": {
             "colorbar": {
              "outlinewidth": 0,
              "ticks": ""
             }
            },
            "type": "scattergl"
           }
          ],
          "scattermapbox": [
           {
            "marker": {
             "colorbar": {
              "outlinewidth": 0,
              "ticks": ""
             }
            },
            "type": "scattermapbox"
           }
          ],
          "scatterpolar": [
           {
            "marker": {
             "colorbar": {
              "outlinewidth": 0,
              "ticks": ""
             }
            },
            "type": "scatterpolar"
           }
          ],
          "scatterpolargl": [
           {
            "marker": {
             "colorbar": {
              "outlinewidth": 0,
              "ticks": ""
             }
            },
            "type": "scatterpolargl"
           }
          ],
          "scatterternary": [
           {
            "marker": {
             "colorbar": {
              "outlinewidth": 0,
              "ticks": ""
             }
            },
            "type": "scatterternary"
           }
          ],
          "surface": [
           {
            "colorbar": {
             "outlinewidth": 0,
             "ticks": ""
            },
            "colorscale": [
             [
              0,
              "#0d0887"
             ],
             [
              0.1111111111111111,
              "#46039f"
             ],
             [
              0.2222222222222222,
              "#7201a8"
             ],
             [
              0.3333333333333333,
              "#9c179e"
             ],
             [
              0.4444444444444444,
              "#bd3786"
             ],
             [
              0.5555555555555556,
              "#d8576b"
             ],
             [
              0.6666666666666666,
              "#ed7953"
             ],
             [
              0.7777777777777778,
              "#fb9f3a"
             ],
             [
              0.8888888888888888,
              "#fdca26"
             ],
             [
              1,
              "#f0f921"
             ]
            ],
            "type": "surface"
           }
          ],
          "table": [
           {
            "cells": {
             "fill": {
              "color": "#EBF0F8"
             },
             "line": {
              "color": "white"
             }
            },
            "header": {
             "fill": {
              "color": "#C8D4E3"
             },
             "line": {
              "color": "white"
             }
            },
            "type": "table"
           }
          ]
         },
         "layout": {
          "annotationdefaults": {
           "arrowcolor": "#2a3f5f",
           "arrowhead": 0,
           "arrowwidth": 1
          },
          "autotypenumbers": "strict",
          "coloraxis": {
           "colorbar": {
            "outlinewidth": 0,
            "ticks": ""
           }
          },
          "colorscale": {
           "diverging": [
            [
             0,
             "#8e0152"
            ],
            [
             0.1,
             "#c51b7d"
            ],
            [
             0.2,
             "#de77ae"
            ],
            [
             0.3,
             "#f1b6da"
            ],
            [
             0.4,
             "#fde0ef"
            ],
            [
             0.5,
             "#f7f7f7"
            ],
            [
             0.6,
             "#e6f5d0"
            ],
            [
             0.7,
             "#b8e186"
            ],
            [
             0.8,
             "#7fbc41"
            ],
            [
             0.9,
             "#4d9221"
            ],
            [
             1,
             "#276419"
            ]
           ],
           "sequential": [
            [
             0,
             "#0d0887"
            ],
            [
             0.1111111111111111,
             "#46039f"
            ],
            [
             0.2222222222222222,
             "#7201a8"
            ],
            [
             0.3333333333333333,
             "#9c179e"
            ],
            [
             0.4444444444444444,
             "#bd3786"
            ],
            [
             0.5555555555555556,
             "#d8576b"
            ],
            [
             0.6666666666666666,
             "#ed7953"
            ],
            [
             0.7777777777777778,
             "#fb9f3a"
            ],
            [
             0.8888888888888888,
             "#fdca26"
            ],
            [
             1,
             "#f0f921"
            ]
           ],
           "sequentialminus": [
            [
             0,
             "#0d0887"
            ],
            [
             0.1111111111111111,
             "#46039f"
            ],
            [
             0.2222222222222222,
             "#7201a8"
            ],
            [
             0.3333333333333333,
             "#9c179e"
            ],
            [
             0.4444444444444444,
             "#bd3786"
            ],
            [
             0.5555555555555556,
             "#d8576b"
            ],
            [
             0.6666666666666666,
             "#ed7953"
            ],
            [
             0.7777777777777778,
             "#fb9f3a"
            ],
            [
             0.8888888888888888,
             "#fdca26"
            ],
            [
             1,
             "#f0f921"
            ]
           ]
          },
          "colorway": [
           "#636efa",
           "#EF553B",
           "#00cc96",
           "#ab63fa",
           "#FFA15A",
           "#19d3f3",
           "#FF6692",
           "#B6E880",
           "#FF97FF",
           "#FECB52"
          ],
          "font": {
           "color": "#2a3f5f"
          },
          "geo": {
           "bgcolor": "white",
           "lakecolor": "white",
           "landcolor": "#E5ECF6",
           "showlakes": true,
           "showland": true,
           "subunitcolor": "white"
          },
          "hoverlabel": {
           "align": "left"
          },
          "hovermode": "closest",
          "mapbox": {
           "style": "light"
          },
          "paper_bgcolor": "white",
          "plot_bgcolor": "#E5ECF6",
          "polar": {
           "angularaxis": {
            "gridcolor": "white",
            "linecolor": "white",
            "ticks": ""
           },
           "bgcolor": "#E5ECF6",
           "radialaxis": {
            "gridcolor": "white",
            "linecolor": "white",
            "ticks": ""
           }
          },
          "scene": {
           "xaxis": {
            "backgroundcolor": "#E5ECF6",
            "gridcolor": "white",
            "gridwidth": 2,
            "linecolor": "white",
            "showbackground": true,
            "ticks": "",
            "zerolinecolor": "white"
           },
           "yaxis": {
            "backgroundcolor": "#E5ECF6",
            "gridcolor": "white",
            "gridwidth": 2,
            "linecolor": "white",
            "showbackground": true,
            "ticks": "",
            "zerolinecolor": "white"
           },
           "zaxis": {
            "backgroundcolor": "#E5ECF6",
            "gridcolor": "white",
            "gridwidth": 2,
            "linecolor": "white",
            "showbackground": true,
            "ticks": "",
            "zerolinecolor": "white"
           }
          },
          "shapedefaults": {
           "line": {
            "color": "#2a3f5f"
           }
          },
          "ternary": {
           "aaxis": {
            "gridcolor": "white",
            "linecolor": "white",
            "ticks": ""
           },
           "baxis": {
            "gridcolor": "white",
            "linecolor": "white",
            "ticks": ""
           },
           "bgcolor": "#E5ECF6",
           "caxis": {
            "gridcolor": "white",
            "linecolor": "white",
            "ticks": ""
           }
          },
          "title": {
           "x": 0.05
          },
          "xaxis": {
           "automargin": true,
           "gridcolor": "white",
           "linecolor": "white",
           "ticks": "",
           "title": {
            "standoff": 15
           },
           "zerolinecolor": "white",
           "zerolinewidth": 2
          },
          "yaxis": {
           "automargin": true,
           "gridcolor": "white",
           "linecolor": "white",
           "ticks": "",
           "title": {
            "standoff": 15
           },
           "zerolinecolor": "white",
           "zerolinewidth": 2
          }
         }
        },
        "title": {
         "text": "3D scatter plot"
        }
       }
      }
     },
     "metadata": {},
     "output_type": "display_data"
    }
   ],
   "source": [
    "fig=px.scatter_3d(df_copy,x='television_usage',y='will_vote',z='candidate',color='type_of_city',title='3D scatter plot')\n",
    "fig.show()"
   ]
  },
  {
   "cell_type": "markdown",
   "metadata": {},
   "source": [
    "you can get information of television_usage,will_vote,candidate and type_of_city to improve votaing "
   ]
  },
  {
   "cell_type": "code",
   "execution_count": 61,
   "metadata": {},
   "outputs": [
    {
     "data": {
      "application/vnd.plotly.v1+json": {
       "config": {
        "plotlyServerURL": "https://plot.ly"
       },
       "data": [
        {
         "hovertemplate": "education=college<br>age=%{x}<br>will_vote=%{y}<br>candidate=%{z}<extra></extra>",
         "legendgroup": "college",
         "marker": {
          "color": "#636efa",
          "symbol": "circle"
         },
         "mode": "markers",
         "name": "college",
         "scene": "scene",
         "showlegend": true,
         "type": "scatter3d",
         "x": [
          23,
          20,
          60,
          32,
          20,
          24,
          23,
          21,
          23,
          32,
          26,
          37,
          38,
          44,
          53,
          45,
          20,
          23,
          21,
          18,
          55,
          44,
          38,
          45,
          39,
          46,
          29,
          40,
          48,
          49,
          43,
          50,
          32,
          43,
          68,
          26,
          45,
          45,
          45,
          52,
          46,
          36,
          47,
          54,
          29,
          54,
          30,
          37,
          55,
          56,
          38,
          50,
          57,
          57,
          58,
          70,
          60,
          60,
          60,
          62,
          62,
          73,
          38,
          63,
          63,
          64,
          40,
          47,
          66,
          49,
          50,
          45,
          20,
          22,
          18,
          31,
          28,
          30,
          29,
          33,
          25,
          25,
          30,
          38,
          36,
          39,
          36,
          35,
          42,
          41,
          35,
          53,
          45,
          45,
          18,
          21,
          24,
          24,
          20,
          30,
          26,
          28,
          40,
          44,
          37,
          35,
          35,
          45,
          51,
          49,
          50,
          40,
          61,
          20,
          38,
          39,
          39,
          29,
          47,
          47,
          48,
          23,
          41,
          41,
          31,
          31,
          42,
          60,
          43,
          43,
          50,
          32,
          25,
          26,
          26,
          51,
          51,
          62,
          33,
          33,
          51,
          62,
          34,
          34,
          34,
          34,
          45,
          52,
          34,
          52,
          52,
          35,
          53,
          53,
          46,
          64,
          36,
          54,
          47,
          36,
          54,
          47,
          37,
          37,
          37,
          55,
          55,
          55,
          55,
          66,
          37,
          55,
          55,
          55,
          55,
          38,
          38,
          56,
          56,
          49,
          38,
          38,
          38,
          38,
          56,
          56,
          49,
          56,
          67,
          39,
          50,
          57,
          57,
          57,
          39,
          57,
          40,
          40,
          40,
          40,
          40,
          40,
          40,
          58,
          58,
          58,
          41,
          41,
          59,
          59,
          41,
          59,
          59,
          35,
          60,
          60,
          60,
          43,
          61,
          61,
          37,
          45,
          56,
          45,
          45,
          63,
          45,
          45,
          63,
          39,
          64,
          47,
          47,
          65,
          77,
          42,
          67,
          67,
          50,
          68,
          68,
          52,
          53,
          72,
          61,
          39,
          39,
          47,
          49,
          34,
          35,
          53,
          53,
          36,
          37,
          55,
          55,
          56,
          31,
          38,
          61,
          62,
          66,
          65,
          61,
          23,
          35,
          48,
          58,
          45,
          52,
          22,
          33
         ],
         "y": [
          "not sure",
          "definitely yes",
          "definitely yes",
          "definitely yes",
          "not sure",
          "not sure",
          "not sure",
          "not sure",
          "not sure",
          "definitely yes",
          "definitely yes",
          "not sure",
          "definitely yes",
          "not sure",
          "definitely yes",
          "definitely no",
          "likely no",
          "definitely yes",
          "likely yes",
          "definitely yes",
          "definitely yes",
          "likely yes",
          "likely yes",
          "definitely yes",
          "likely yes",
          "definitely yes",
          "definitely no",
          "definitely yes",
          "definitely yes",
          "not sure",
          "definitely yes",
          "definitely yes",
          "not sure",
          "definitely yes",
          "likely yes",
          "definitely yes",
          "definitely yes",
          "definitely yes",
          "definitely yes",
          "definitely yes",
          "definitely yes",
          "likely yes",
          "definitely no",
          "definitely yes",
          "definitely yes",
          "definitely no",
          "likely yes",
          "definitely no",
          "definitely yes",
          "definitely yes",
          "definitely yes",
          "definitely yes",
          "not sure",
          "definitely yes",
          "definitely yes",
          "likely no",
          "definitely yes",
          "definitely yes",
          "definitely yes",
          "definitely yes",
          "definitely yes",
          "definitely yes",
          "definitely yes",
          "likely yes",
          "definitely yes",
          "likely yes",
          "definitely yes",
          "definitely yes",
          "definitely yes",
          "definitely yes",
          "definitely yes",
          "definitely yes",
          "likely no",
          "definitely yes",
          "definitely yes",
          "definitely yes",
          "likely yes",
          "likely no",
          "definitely yes",
          "definitely yes",
          "not sure",
          "likely no",
          "definitely no",
          "definitely yes",
          "not sure",
          "likely yes",
          "definitely yes",
          "definitely no",
          "not sure",
          "not sure",
          "definitely yes",
          "definitely yes",
          "definitely yes",
          "likely yes",
          "definitely no",
          "not sure",
          "definitely yes",
          "likely no",
          "likely no",
          "likely yes",
          "definitely yes",
          "likely yes",
          "definitely yes",
          "not sure",
          "definitely yes",
          "definitely yes",
          "definitely yes",
          "likely no",
          "definitely yes",
          "definitely yes",
          "definitely yes",
          "likely yes",
          "definitely yes",
          "likely yes",
          "not sure",
          "definitely no",
          "definitely yes",
          "definitely yes",
          "definitely yes",
          "definitely yes",
          "definitely yes",
          "likely yes",
          "likely yes",
          "definitely yes",
          "not sure",
          "definitely yes",
          "definitely yes",
          "definitely yes",
          "likely yes",
          "definitely yes",
          "definitely yes",
          "definitely yes",
          "likely no",
          "likely no",
          "likely yes",
          "definitely yes",
          "definitely yes",
          "definitely yes",
          "definitely yes",
          "likely no",
          "definitely no",
          "definitely no",
          "likely yes",
          "likely yes",
          "likely yes",
          "definitely yes",
          "definitely yes",
          "definitely yes",
          "definitely yes",
          "definitely yes",
          "definitely yes",
          "definitely yes",
          "definitely yes",
          "likely yes",
          "definitely yes",
          "definitely yes",
          "definitely yes",
          "definitely yes",
          "likely yes",
          "not sure",
          "definitely yes",
          "definitely yes",
          "not sure",
          "definitely yes",
          "definitely yes",
          "definitely yes",
          "definitely yes",
          "definitely yes",
          "definitely yes",
          "definitely yes",
          "not sure",
          "not sure",
          "not sure",
          "definitely yes",
          "not sure",
          "likely no",
          "definitely yes",
          "definitely yes",
          "definitely yes",
          "definitely yes",
          "definitely yes",
          "likely no",
          "definitely yes",
          "likely no",
          "likely yes",
          "likely no",
          "definitely yes",
          "definitely yes",
          "definitely no",
          "likely yes",
          "likely no",
          "definitely yes",
          "definitely yes",
          "definitely yes",
          "definitely yes",
          "definitely yes",
          "not sure",
          "not sure",
          "definitely no",
          "likely yes",
          "struggle to answer",
          "definitely yes",
          "likely yes",
          "definitely yes",
          "definitely yes",
          "definitely yes",
          "not sure",
          "likely yes",
          "definitely yes",
          "definitely yes",
          "definitely yes",
          "likely yes",
          "definitely yes",
          "definitely yes",
          "definitely yes",
          "definitely yes",
          "definitely yes",
          "definitely yes",
          "definitely yes",
          "definitely yes",
          "likely yes",
          "not sure",
          "definitely yes",
          "not sure",
          "definitely yes",
          "definitely yes",
          "definitely yes",
          "definitely yes",
          "definitely yes",
          "not sure",
          "definitely yes",
          "definitely yes",
          "definitely yes",
          "definitely yes",
          "definitely yes",
          "likely yes",
          "definitely yes",
          "definitely yes",
          "definitely no",
          "definitely yes",
          "definitely yes",
          "definitely no",
          "definitely yes",
          "definitely yes",
          "likely no",
          "not sure",
          "definitely yes",
          "definitely no",
          "likely no",
          "not sure",
          "not sure",
          "definitely no",
          "likely yes",
          "likely no",
          "definitely yes",
          "definitely yes",
          "definitely yes",
          "definitely yes",
          "not sure",
          "definitely no",
          "definitely yes",
          "definitely yes",
          "definitely yes",
          "definitely yes",
          "not sure",
          "definitely yes",
          "definitely no",
          "not sure",
          "definitely yes",
          "definitely no",
          "definitely yes",
          "definitely yes",
          "definitely yes"
         ],
         "z": [
          "Putin",
          "Putin",
          "Putin",
          "Putin",
          "struggle to answer",
          "Putin",
          "Putin",
          "struggle to answer",
          "struggle to answer",
          "struggle to answer",
          "Davankov",
          "Putin",
          "Putin",
          "Putin",
          "Putin",
          "will not take part",
          "Putin",
          "Putin",
          "Putin",
          "Putin",
          "Putin",
          "Putin",
          "Putin",
          "Putin",
          "Putin",
          "Putin",
          "Putin",
          "Putin",
          "Putin",
          "Putin",
          "Putin",
          "Putin",
          "struggle to answer",
          "Putin",
          "Putin",
          "Putin",
          "Putin",
          "Putin",
          "Putin",
          "Putin",
          "Putin",
          "Slutskiy",
          "will not take part",
          "Putin",
          "Putin",
          "will not take part",
          "struggle to answer",
          "will not take part",
          "Putin",
          "Putin",
          "Putin",
          "Putin",
          "Putin",
          "Putin",
          "Putin",
          "Putin",
          "Putin",
          "Putin",
          "Putin",
          "Putin",
          "Putin",
          "Putin",
          "Putin",
          "Slutskiy",
          "Putin",
          "struggle to answer",
          "Putin",
          "Putin",
          "Putin",
          "struggle to answer",
          "Putin",
          "Putin",
          "Putin",
          "Putin",
          "Putin",
          "Putin",
          "Kharitonov",
          "Putin",
          "Putin",
          "Putin",
          "Putin",
          "Slutskiy",
          "will not take part",
          "Davankov",
          "Putin",
          "Putin",
          "Putin",
          "will not take part",
          "Putin",
          "Putin",
          "Putin",
          "Putin",
          "Putin",
          "will not take part",
          "Putin",
          "Putin",
          "Slutskiy",
          "Putin",
          "Putin",
          "Putin",
          "Davankov",
          "Putin",
          "Putin",
          "Putin",
          "Putin",
          "struggle to answer",
          "Putin",
          "struggle to answer",
          "Putin",
          "Putin",
          "Putin",
          "Kharitonov",
          "Putin",
          "Putin",
          "Putin",
          "will not take part",
          "Putin",
          "Putin",
          "Putin",
          "Putin",
          "Putin",
          "Putin",
          "Putin",
          "Putin",
          "struggle to answer",
          "Putin",
          "Putin",
          "Putin",
          "Putin",
          "Putin",
          "Putin",
          "Putin",
          "Putin",
          "will not take part",
          "Kharitonov",
          "Putin",
          "will not take part",
          "Slutskiy",
          "Putin",
          "will not take part",
          "will not take part",
          "will not take part",
          "Putin",
          "Putin",
          "Putin",
          "Putin",
          "Putin",
          "Putin",
          "Putin",
          "Putin",
          "Putin",
          "Putin",
          "Putin",
          "Slutskiy",
          "Putin",
          "Putin",
          "Davankov",
          "Putin",
          "Putin",
          "Putin",
          "Putin",
          "Putin",
          "will not take part",
          "Putin",
          "struggle to answer",
          "struggle to answer",
          "Putin",
          "Putin",
          "Putin",
          "Slutskiy",
          "will not take part",
          "Putin",
          "Kharitonov",
          "struggle to answer",
          "Slutskiy",
          "Putin",
          "Putin",
          "Putin",
          "Putin",
          "Putin",
          "Putin",
          "Putin",
          "Putin",
          "will not take part",
          "Putin",
          "will not take part",
          "Putin",
          "Putin",
          "Putin",
          "Putin",
          "Putin",
          "Putin",
          "struggle to answer",
          "Putin",
          "Putin",
          "Putin",
          "Putin",
          "Slutskiy",
          "will not take part",
          "Putin",
          "Putin",
          "Putin",
          "Putin",
          "Putin",
          "Putin",
          "Putin",
          "Putin",
          "Putin",
          "Putin",
          "Putin",
          "Putin",
          "Putin",
          "Putin",
          "Putin",
          "Slutskiy",
          "Putin",
          "Putin",
          "Putin",
          "Putin",
          "Putin",
          "Putin",
          "Slutskiy",
          "struggle to answer",
          "Putin",
          "Putin",
          "Putin",
          "Putin",
          "Putin",
          "Putin",
          "struggle to answer",
          "Putin",
          "Putin",
          "Putin",
          "Putin",
          "Putin",
          "Kharitonov",
          "Putin",
          "Putin",
          "Kharitonov",
          "Putin",
          "Putin",
          "will not take part",
          "struggle to answer",
          "Putin",
          "will not take part",
          "Putin",
          "Putin",
          "Putin",
          "will not take part",
          "struggle to answer",
          "Kharitonov",
          "struggle to answer",
          "spoilt vote",
          "will not take part",
          "Putin",
          "Putin",
          "Putin",
          "struggle to answer",
          "Putin",
          "will not take part",
          "Putin",
          "Putin",
          "Putin",
          "spoilt vote",
          "Putin",
          "Davankov",
          "will not take part",
          "struggle to answer",
          "Putin",
          "Putin",
          "Davankov",
          "Slutskiy",
          "Putin"
         ]
        },
        {
         "hovertemplate": "education=bachelor degree<br>age=%{x}<br>will_vote=%{y}<br>candidate=%{z}<extra></extra>",
         "legendgroup": "bachelor degree",
         "marker": {
          "color": "#EF553B",
          "symbol": "circle"
         },
         "mode": "markers",
         "name": "bachelor degree",
         "scene": "scene",
         "showlegend": true,
         "type": "scatter3d",
         "x": [
          21,
          44,
          20,
          45,
          24,
          25,
          25,
          31,
          26,
          32,
          27,
          40,
          40,
          43,
          25,
          26,
          34,
          29,
          30,
          30,
          42,
          44,
          35,
          36,
          45,
          45,
          46,
          47,
          47,
          47,
          30,
          31,
          60,
          42,
          42,
          50,
          33,
          45,
          45,
          35,
          35,
          65,
          47,
          30,
          37,
          48,
          48,
          37,
          37,
          38,
          74,
          32,
          32,
          39,
          39,
          75,
          40,
          40,
          58,
          59,
          41,
          59,
          35,
          53,
          60,
          60,
          61,
          43,
          44,
          45,
          48,
          59,
          66,
          77,
          67,
          44,
          64,
          73,
          22,
          22,
          33,
          31,
          30,
          29,
          31,
          25,
          26,
          36,
          37,
          36,
          40,
          39,
          36,
          39,
          64,
          23,
          22,
          24,
          22,
          24,
          22,
          24,
          21,
          34,
          28,
          32,
          33,
          27,
          29,
          25,
          41,
          37,
          35,
          55,
          45,
          46,
          40,
          35,
          60,
          62,
          45,
          39,
          46,
          40,
          41,
          48,
          49,
          49,
          25,
          43,
          32,
          25,
          43,
          43,
          50,
          33,
          33,
          33,
          44,
          51,
          51,
          52,
          45,
          52,
          52,
          45,
          45,
          52,
          28,
          46,
          46,
          35,
          35,
          35,
          35,
          53,
          46,
          36,
          36,
          36,
          36,
          36,
          30,
          37,
          37,
          48,
          48,
          31,
          31,
          38,
          38,
          56,
          56,
          31,
          56,
          39,
          57,
          32,
          57,
          50,
          40,
          40,
          58,
          40,
          40,
          40,
          40,
          41,
          41,
          41,
          59,
          59,
          52,
          59,
          70,
          53,
          60,
          42,
          53,
          60,
          60,
          60,
          43,
          43,
          61,
          61,
          44,
          37,
          37,
          62,
          37,
          44,
          45,
          63,
          45,
          63,
          75,
          64,
          40,
          48,
          66,
          67,
          60,
          49,
          43,
          68,
          50,
          44,
          51,
          27,
          32,
          26,
          56,
          38,
          55,
          45,
          23,
          24,
          32,
          33,
          44,
          56,
          38,
          56,
          40,
          40,
          58,
          59,
          35,
          44,
          63,
          47,
          48,
          68,
          52,
          36,
          37,
          39,
          26,
          50,
          48
         ],
         "y": [
          "definitely yes",
          "definitely yes",
          "definitely yes",
          "definitely yes",
          "definitely yes",
          "definitely yes",
          "definitely yes",
          "definitely yes",
          "definitely yes",
          "definitely yes",
          "definitely yes",
          "definitely yes",
          "definitely yes",
          "not sure",
          "definitely yes",
          "definitely yes",
          "likely yes",
          "definitely yes",
          "definitely yes",
          "likely no",
          "likely yes",
          "definitely yes",
          "definitely yes",
          "definitely yes",
          "likely yes",
          "definitely yes",
          "definitely yes",
          "definitely yes",
          "definitely yes",
          "definitely yes",
          "definitely yes",
          "definitely yes",
          "definitely yes",
          "definitely yes",
          "definitely yes",
          "definitely yes",
          "definitely yes",
          "definitely yes",
          "definitely yes",
          "definitely yes",
          "definitely yes",
          "definitely yes",
          "definitely yes",
          "definitely yes",
          "definitely yes",
          "likely yes",
          "definitely yes",
          "definitely yes",
          "definitely yes",
          "definitely yes",
          "definitely yes",
          "definitely yes",
          "definitely yes",
          "definitely yes",
          "definitely yes",
          "likely yes",
          "definitely yes",
          "definitely yes",
          "definitely yes",
          "likely yes",
          "definitely yes",
          "likely yes",
          "definitely yes",
          "likely yes",
          "definitely yes",
          "definitely yes",
          "definitely yes",
          "definitely yes",
          "definitely yes",
          "definitely yes",
          "definitely yes",
          "likely yes",
          "definitely yes",
          "definitely yes",
          "definitely yes",
          "likely yes",
          "definitely yes",
          "definitely yes",
          "likely yes",
          "definitely yes",
          "definitely yes",
          "definitely yes",
          "likely yes",
          "definitely yes",
          "definitely yes",
          "definitely no",
          "likely yes",
          "likely yes",
          "likely yes",
          "definitely yes",
          "definitely yes",
          "definitely yes",
          "not sure",
          "definitely yes",
          "definitely yes",
          "definitely no",
          "definitely yes",
          "not sure",
          "likely yes",
          "likely yes",
          "definitely yes",
          "likely yes",
          "likely yes",
          "not sure",
          "definitely yes",
          "definitely yes",
          "definitely yes",
          "definitely yes",
          "definitely yes",
          "likely yes",
          "definitely yes",
          "definitely yes",
          "definitely yes",
          "definitely yes",
          "definitely yes",
          "definitely yes",
          "definitely yes",
          "definitely yes",
          "likely yes",
          "definitely yes",
          "definitely yes",
          "definitely yes",
          "definitely yes",
          "definitely yes",
          "definitely yes",
          "definitely yes",
          "definitely yes",
          "definitely yes",
          "likely yes",
          "definitely yes",
          "definitely yes",
          "definitely yes",
          "definitely yes",
          "likely yes",
          "definitely yes",
          "not sure",
          "definitely yes",
          "likely yes",
          "definitely yes",
          "definitely yes",
          "likely yes",
          "definitely yes",
          "definitely yes",
          "definitely yes",
          "definitely yes",
          "definitely yes",
          "definitely yes",
          "definitely yes",
          "definitely yes",
          "definitely yes",
          "definitely yes",
          "definitely yes",
          "likely yes",
          "likely yes",
          "likely yes",
          "definitely yes",
          "definitely yes",
          "definitely yes",
          "likely yes",
          "definitely yes",
          "definitely yes",
          "definitely yes",
          "not sure",
          "definitely yes",
          "likely no",
          "definitely yes",
          "definitely yes",
          "definitely yes",
          "likely yes",
          "definitely yes",
          "definitely no",
          "definitely yes",
          "definitely yes",
          "not sure",
          "definitely yes",
          "definitely yes",
          "likely no",
          "definitely yes",
          "definitely yes",
          "definitely yes",
          "definitely yes",
          "definitely yes",
          "definitely yes",
          "definitely yes",
          "definitely yes",
          "definitely yes",
          "definitely no",
          "likely yes",
          "likely yes",
          "definitely yes",
          "definitely yes",
          "definitely yes",
          "definitely yes",
          "definitely yes",
          "definitely yes",
          "likely yes",
          "definitely yes",
          "likely yes",
          "likely yes",
          "definitely yes",
          "definitely yes",
          "definitely yes",
          "definitely yes",
          "definitely yes",
          "definitely yes",
          "definitely yes",
          "likely yes",
          "definitely yes",
          "definitely yes",
          "definitely yes",
          "definitely yes",
          "definitely yes",
          "likely yes",
          "definitely yes",
          "definitely yes",
          "definitely yes",
          "definitely yes",
          "definitely no",
          "definitely yes",
          "definitely yes",
          "definitely yes",
          "definitely yes",
          "likely yes",
          "definitely yes",
          "definitely yes",
          "definitely yes",
          "definitely yes",
          "definitely yes",
          "likely no",
          "definitely yes",
          "definitely yes",
          "definitely yes",
          "not sure",
          "likely no",
          "likely yes",
          "definitely yes",
          "likely yes",
          "definitely yes",
          "definitely yes",
          "definitely yes",
          "definitely yes",
          "definitely yes",
          "definitely yes",
          "definitely yes",
          "likely yes",
          "definitely yes",
          "definitely yes",
          "definitely yes",
          "definitely yes",
          "definitely yes",
          "definitely yes",
          "likely yes",
          "definitely yes",
          "definitely yes",
          "definitely yes",
          "not sure",
          "definitely yes",
          "definitely yes",
          "not sure",
          "definitely no",
          "likely yes"
         ],
         "z": [
          "Putin",
          "spoilt vote",
          "Putin",
          "Putin",
          "Putin",
          "Kharitonov",
          "Putin",
          "Putin",
          "Putin",
          "Putin",
          "Davankov",
          "Putin",
          "struggle to answer",
          "Putin",
          "Putin",
          "struggle to answer",
          "Putin",
          "Davankov",
          "Davankov",
          "will not take part",
          "Putin",
          "Putin",
          "Davankov",
          "struggle to answer",
          "Putin",
          "Putin",
          "Putin",
          "Putin",
          "Putin",
          "Putin",
          "Putin",
          "Putin",
          "Putin",
          "Putin",
          "Putin",
          "Putin",
          "Putin",
          "Putin",
          "Putin",
          "Putin",
          "Putin",
          "Putin",
          "Putin",
          "Putin",
          "Slutskiy",
          "Putin",
          "Putin",
          "struggle to answer",
          "struggle to answer",
          "Putin",
          "Putin",
          "Putin",
          "Slutskiy",
          "Davankov",
          "Putin",
          "spoilt vote",
          "struggle to answer",
          "struggle to answer",
          "Kharitonov",
          "spoilt vote",
          "Putin",
          "Putin",
          "Putin",
          "Putin",
          "Putin",
          "Putin",
          "Putin",
          "Putin",
          "Putin",
          "Putin",
          "Putin",
          "Putin",
          "Putin",
          "Putin",
          "Putin",
          "Slutskiy",
          "Putin",
          "Putin",
          "Davankov",
          "Putin",
          "Davankov",
          "will not take part",
          "struggle to answer",
          "Davankov",
          "Davankov",
          "will not take part",
          "Putin",
          "Putin",
          "Putin",
          "Putin",
          "struggle to answer",
          "Davankov",
          "Putin",
          "Slutskiy",
          "struggle to answer",
          "will not take part",
          "Putin",
          "will not take part",
          "struggle to answer",
          "Putin",
          "Slutskiy",
          "Putin",
          "Davankov",
          "Putin",
          "Davankov",
          "Putin",
          "struggle to answer",
          "spoilt vote",
          "Slutskiy",
          "Davankov",
          "Putin",
          "Putin",
          "spoilt vote",
          "Putin",
          "Putin",
          "Davankov",
          "struggle to answer",
          "struggle to answer",
          "struggle to answer",
          "Putin",
          "Putin",
          "struggle to answer",
          "Putin",
          "Putin",
          "Putin",
          "Putin",
          "Putin",
          "Putin",
          "Putin",
          "Putin",
          "Kharitonov",
          "spoilt vote",
          "Putin",
          "struggle to answer",
          "Putin",
          "struggle to answer",
          "Putin",
          "Putin",
          "Slutskiy",
          "Putin",
          "Davankov",
          "Putin",
          "Putin",
          "Putin",
          "Putin",
          "Putin",
          "struggle to answer",
          "struggle to answer",
          "Putin",
          "Putin",
          "Slutskiy",
          "Slutskiy",
          "Putin",
          "Putin",
          "Putin",
          "Kharitonov",
          "Putin",
          "struggle to answer",
          "Putin",
          "Kharitonov",
          "Putin",
          "struggle to answer",
          "struggle to answer",
          "Slutskiy",
          "will not take part",
          "Putin",
          "Putin",
          "Putin",
          "struggle to answer",
          "Putin",
          "will not take part",
          "Putin",
          "Putin",
          "struggle to answer",
          "Putin",
          "Putin",
          "will not take part",
          "Putin",
          "Putin",
          "struggle to answer",
          "Putin",
          "Putin",
          "Putin",
          "struggle to answer",
          "Slutskiy",
          "Putin",
          "Putin",
          "Putin",
          "struggle to answer",
          "Putin",
          "spoilt vote",
          "Putin",
          "Davankov",
          "Putin",
          "Putin",
          "Putin",
          "Putin",
          "struggle to answer",
          "Putin",
          "Putin",
          "Putin",
          "Putin",
          "Putin",
          "Putin",
          "Putin",
          "Putin",
          "Putin",
          "Davankov",
          "Putin",
          "Putin",
          "struggle to answer",
          "Putin",
          "Putin",
          "Putin",
          "Putin",
          "Davankov",
          "Putin",
          "will not take part",
          "Putin",
          "Putin",
          "struggle to answer",
          "Putin",
          "struggle to answer",
          "struggle to answer",
          "struggle to answer",
          "Putin",
          "Putin",
          "Putin",
          "Putin",
          "struggle to answer",
          "Davankov",
          "Putin",
          "struggle to answer",
          "will not take part",
          "Putin",
          "Putin",
          "Slutskiy",
          "spoilt vote",
          "Slutskiy",
          "struggle to answer",
          "Slutskiy",
          "Putin",
          "Putin",
          "Kharitonov",
          "Putin",
          "struggle to answer",
          "struggle to answer",
          "Putin",
          "Putin",
          "Davankov",
          "Putin",
          "Putin",
          "Slutskiy",
          "Davankov",
          "spoilt vote",
          "Putin",
          "Kharitonov",
          "Kharitonov",
          "Putin",
          "will not take part",
          "Putin"
         ]
        },
        {
         "hovertemplate": "education=incomplete school education<br>age=%{x}<br>will_vote=%{y}<br>candidate=%{z}<extra></extra>",
         "legendgroup": "incomplete school education",
         "marker": {
          "color": "#00cc96",
          "symbol": "circle"
         },
         "mode": "markers",
         "name": "incomplete school education",
         "scene": "scene",
         "showlegend": true,
         "type": "scatter3d",
         "x": [
          27,
          22,
          20,
          19,
          19,
          49,
          18,
          19,
          19,
          33,
          26,
          42,
          18,
          20,
          35,
          54,
          38,
          58,
          38,
          50,
          50
         ],
         "y": [
          "not sure",
          "not sure",
          "definitely yes",
          "not sure",
          "not sure",
          "definitely yes",
          "likely no",
          "likely yes",
          "definitely no",
          "not sure",
          "not sure",
          "definitely yes",
          "not sure",
          "definitely no",
          "not sure",
          "definitely yes",
          "definitely yes",
          "definitely yes",
          "not sure",
          "definitely yes",
          "struggle to answer"
         ],
         "z": [
          "Putin",
          "struggle to answer",
          "Putin",
          "Putin",
          "Slutskiy",
          "Putin",
          "Davankov",
          "Putin",
          "will not take part",
          "Slutskiy",
          "struggle to answer",
          "Putin",
          "Putin",
          "will not take part",
          "Putin",
          "Putin",
          "Putin",
          "struggle to answer",
          "Davankov",
          "Putin",
          "Kharitonov"
         ]
        },
        {
         "hovertemplate": "education=school<br>age=%{x}<br>will_vote=%{y}<br>candidate=%{z}<extra></extra>",
         "legendgroup": "school",
         "marker": {
          "color": "#ab63fa",
          "symbol": "circle"
         },
         "mode": "markers",
         "name": "school",
         "scene": "scene",
         "showlegend": true,
         "type": "scatter3d",
         "x": [
          37,
          44,
          20,
          22,
          26,
          25,
          51,
          19,
          18,
          71,
          29,
          50,
          52,
          35,
          54,
          54,
          63,
          24,
          30,
          31,
          27,
          44,
          38,
          36,
          23,
          22,
          19,
          19,
          68,
          47,
          44,
          39,
          48,
          41,
          59,
          49,
          42,
          49,
          50,
          32,
          50,
          51,
          35,
          54,
          55,
          56,
          38,
          38,
          57,
          50,
          51,
          37,
          45,
          64,
          66,
          58,
          19,
          56,
          38
         ],
         "y": [
          "definitely yes",
          "definitely no",
          "not sure",
          "likely no",
          "likely yes",
          "definitely yes",
          "not sure",
          "likely yes",
          "not sure",
          "definitely yes",
          "likely yes",
          "definitely yes",
          "definitely yes",
          "not sure",
          "definitely yes",
          "definitely yes",
          "definitely yes",
          "definitely no",
          "definitely yes",
          "definitely yes",
          "likely yes",
          "likely yes",
          "not sure",
          "not sure",
          "likely yes",
          "definitely yes",
          "not sure",
          "likely yes",
          "definitely yes",
          "definitely yes",
          "definitely yes",
          "definitely yes",
          "definitely yes",
          "not sure",
          "definitely yes",
          "definitely yes",
          "definitely yes",
          "definitely no",
          "definitely no",
          "definitely no",
          "definitely yes",
          "definitely no",
          "definitely yes",
          "definitely yes",
          "definitely no",
          "definitely yes",
          "definitely yes",
          "likely yes",
          "definitely yes",
          "likely no",
          "definitely yes",
          "not sure",
          "definitely no",
          "definitely yes",
          "definitely no",
          "definitely yes",
          "likely no",
          "definitely yes",
          "definitely yes"
         ],
         "z": [
          "Putin",
          "will not take part",
          "Putin",
          "Putin",
          "Davankov",
          "struggle to answer",
          "struggle to answer",
          "Putin",
          "Putin",
          "Putin",
          "Putin",
          "struggle to answer",
          "Putin",
          "Putin",
          "Putin",
          "Putin",
          "Putin",
          "will not take part",
          "Putin",
          "Putin",
          "struggle to answer",
          "Putin",
          "struggle to answer",
          "Putin",
          "Putin",
          "Davankov",
          "struggle to answer",
          "Davankov",
          "Putin",
          "Putin",
          "Putin",
          "Kharitonov",
          "struggle to answer",
          "will not take part",
          "Putin",
          "Putin",
          "Putin",
          "Kharitonov",
          "will not take part",
          "Putin",
          "Putin",
          "Putin",
          "struggle to answer",
          "Putin",
          "will not take part",
          "Putin",
          "struggle to answer",
          "Putin",
          "Putin",
          "Kharitonov",
          "Putin",
          "Putin",
          "Putin",
          "Putin",
          "will not take part",
          "Putin",
          "will not take part",
          "Putin",
          "Slutskiy"
         ]
        },
        {
         "hovertemplate": "education=academic degree<br>age=%{x}<br>will_vote=%{y}<br>candidate=%{z}<extra></extra>",
         "legendgroup": "academic degree",
         "marker": {
          "color": "#FFA15A",
          "symbol": "circle"
         },
         "mode": "markers",
         "name": "academic degree",
         "scene": "scene",
         "showlegend": true,
         "type": "scatter3d",
         "x": [
          49,
          49,
          35,
          71,
          38,
          52,
          49,
          25,
          37,
          39,
          39,
          40,
          40,
          51,
          40,
          77,
          42,
          60,
          65,
          60,
          77,
          32,
          28,
          32,
          44,
          23,
          33,
          38,
          39,
          48,
          49,
          43,
          36,
          37,
          48,
          56,
          57,
          57,
          33,
          51,
          41,
          41,
          61,
          45,
          24,
          48,
          49,
          54,
          31,
          56,
          51,
          59,
          75,
          67,
          74
         ],
         "y": [
          "definitely yes",
          "likely yes",
          "definitely yes",
          "definitely yes",
          "definitely yes",
          "definitely yes",
          "definitely yes",
          "definitely yes",
          "definitely yes",
          "definitely yes",
          "definitely yes",
          "definitely yes",
          "likely yes",
          "definitely yes",
          "definitely yes",
          "definitely yes",
          "definitely yes",
          "definitely yes",
          "likely yes",
          "definitely yes",
          "not sure",
          "likely yes",
          "definitely yes",
          "likely yes",
          "definitely yes",
          "definitely yes",
          "definitely yes",
          "likely yes",
          "likely yes",
          "definitely yes",
          "definitely yes",
          "definitely yes",
          "definitely yes",
          "definitely yes",
          "definitely yes",
          "definitely yes",
          "definitely yes",
          "definitely yes",
          "not sure",
          "definitely no",
          "definitely yes",
          "definitely yes",
          "definitely yes",
          "likely yes",
          "definitely yes",
          "definitely yes",
          "definitely yes",
          "definitely yes",
          "definitely yes",
          "definitely yes",
          "definitely yes",
          "definitely no",
          "definitely yes",
          "definitely yes",
          "definitely yes"
         ],
         "z": [
          "Putin",
          "Putin",
          "Kharitonov",
          "Putin",
          "Putin",
          "Putin",
          "Putin",
          "struggle to answer",
          "Putin",
          "struggle to answer",
          "Putin",
          "Kharitonov",
          "Putin",
          "struggle to answer",
          "Putin",
          "Putin",
          "Putin",
          "struggle to answer",
          "Putin",
          "Putin",
          "Slutskiy",
          "Davankov",
          "Putin",
          "Davankov",
          "Putin",
          "Putin",
          "Davankov",
          "Putin",
          "Putin",
          "Putin",
          "Putin",
          "struggle to answer",
          "Putin",
          "Putin",
          "Putin",
          "Putin",
          "Putin",
          "struggle to answer",
          "Putin",
          "will not take part",
          "Putin",
          "Putin",
          "Kharitonov",
          "Putin",
          "Putin",
          "Kharitonov",
          "Putin",
          "Putin",
          "spoilt vote",
          "spoilt vote",
          "Putin",
          "Putin",
          "Kharitonov",
          "struggle to answer",
          "Putin"
         ]
        },
        {
         "hovertemplate": "education=no school education<br>age=%{x}<br>will_vote=%{y}<br>candidate=%{z}<extra></extra>",
         "legendgroup": "no school education",
         "marker": {
          "color": "#19d3f3",
          "symbol": "circle"
         },
         "mode": "markers",
         "name": "no school education",
         "scene": "scene",
         "showlegend": true,
         "type": "scatter3d",
         "x": [
          35
         ],
         "y": [
          "struggle to answer"
         ],
         "z": [
          "struggle to answer"
         ]
        }
       ],
       "layout": {
        "legend": {
         "title": {
          "text": "education"
         },
         "tracegroupgap": 0
        },
        "scene": {
         "domain": {
          "x": [
           0,
           1
          ],
          "y": [
           0,
           1
          ]
         },
         "xaxis": {
          "title": {
           "text": "age"
          }
         },
         "yaxis": {
          "title": {
           "text": "will_vote"
          }
         },
         "zaxis": {
          "title": {
           "text": "candidate"
          }
         }
        },
        "template": {
         "data": {
          "bar": [
           {
            "error_x": {
             "color": "#2a3f5f"
            },
            "error_y": {
             "color": "#2a3f5f"
            },
            "marker": {
             "line": {
              "color": "#E5ECF6",
              "width": 0.5
             },
             "pattern": {
              "fillmode": "overlay",
              "size": 10,
              "solidity": 0.2
             }
            },
            "type": "bar"
           }
          ],
          "barpolar": [
           {
            "marker": {
             "line": {
              "color": "#E5ECF6",
              "width": 0.5
             },
             "pattern": {
              "fillmode": "overlay",
              "size": 10,
              "solidity": 0.2
             }
            },
            "type": "barpolar"
           }
          ],
          "carpet": [
           {
            "aaxis": {
             "endlinecolor": "#2a3f5f",
             "gridcolor": "white",
             "linecolor": "white",
             "minorgridcolor": "white",
             "startlinecolor": "#2a3f5f"
            },
            "baxis": {
             "endlinecolor": "#2a3f5f",
             "gridcolor": "white",
             "linecolor": "white",
             "minorgridcolor": "white",
             "startlinecolor": "#2a3f5f"
            },
            "type": "carpet"
           }
          ],
          "choropleth": [
           {
            "colorbar": {
             "outlinewidth": 0,
             "ticks": ""
            },
            "type": "choropleth"
           }
          ],
          "contour": [
           {
            "colorbar": {
             "outlinewidth": 0,
             "ticks": ""
            },
            "colorscale": [
             [
              0,
              "#0d0887"
             ],
             [
              0.1111111111111111,
              "#46039f"
             ],
             [
              0.2222222222222222,
              "#7201a8"
             ],
             [
              0.3333333333333333,
              "#9c179e"
             ],
             [
              0.4444444444444444,
              "#bd3786"
             ],
             [
              0.5555555555555556,
              "#d8576b"
             ],
             [
              0.6666666666666666,
              "#ed7953"
             ],
             [
              0.7777777777777778,
              "#fb9f3a"
             ],
             [
              0.8888888888888888,
              "#fdca26"
             ],
             [
              1,
              "#f0f921"
             ]
            ],
            "type": "contour"
           }
          ],
          "contourcarpet": [
           {
            "colorbar": {
             "outlinewidth": 0,
             "ticks": ""
            },
            "type": "contourcarpet"
           }
          ],
          "heatmap": [
           {
            "colorbar": {
             "outlinewidth": 0,
             "ticks": ""
            },
            "colorscale": [
             [
              0,
              "#0d0887"
             ],
             [
              0.1111111111111111,
              "#46039f"
             ],
             [
              0.2222222222222222,
              "#7201a8"
             ],
             [
              0.3333333333333333,
              "#9c179e"
             ],
             [
              0.4444444444444444,
              "#bd3786"
             ],
             [
              0.5555555555555556,
              "#d8576b"
             ],
             [
              0.6666666666666666,
              "#ed7953"
             ],
             [
              0.7777777777777778,
              "#fb9f3a"
             ],
             [
              0.8888888888888888,
              "#fdca26"
             ],
             [
              1,
              "#f0f921"
             ]
            ],
            "type": "heatmap"
           }
          ],
          "heatmapgl": [
           {
            "colorbar": {
             "outlinewidth": 0,
             "ticks": ""
            },
            "colorscale": [
             [
              0,
              "#0d0887"
             ],
             [
              0.1111111111111111,
              "#46039f"
             ],
             [
              0.2222222222222222,
              "#7201a8"
             ],
             [
              0.3333333333333333,
              "#9c179e"
             ],
             [
              0.4444444444444444,
              "#bd3786"
             ],
             [
              0.5555555555555556,
              "#d8576b"
             ],
             [
              0.6666666666666666,
              "#ed7953"
             ],
             [
              0.7777777777777778,
              "#fb9f3a"
             ],
             [
              0.8888888888888888,
              "#fdca26"
             ],
             [
              1,
              "#f0f921"
             ]
            ],
            "type": "heatmapgl"
           }
          ],
          "histogram": [
           {
            "marker": {
             "pattern": {
              "fillmode": "overlay",
              "size": 10,
              "solidity": 0.2
             }
            },
            "type": "histogram"
           }
          ],
          "histogram2d": [
           {
            "colorbar": {
             "outlinewidth": 0,
             "ticks": ""
            },
            "colorscale": [
             [
              0,
              "#0d0887"
             ],
             [
              0.1111111111111111,
              "#46039f"
             ],
             [
              0.2222222222222222,
              "#7201a8"
             ],
             [
              0.3333333333333333,
              "#9c179e"
             ],
             [
              0.4444444444444444,
              "#bd3786"
             ],
             [
              0.5555555555555556,
              "#d8576b"
             ],
             [
              0.6666666666666666,
              "#ed7953"
             ],
             [
              0.7777777777777778,
              "#fb9f3a"
             ],
             [
              0.8888888888888888,
              "#fdca26"
             ],
             [
              1,
              "#f0f921"
             ]
            ],
            "type": "histogram2d"
           }
          ],
          "histogram2dcontour": [
           {
            "colorbar": {
             "outlinewidth": 0,
             "ticks": ""
            },
            "colorscale": [
             [
              0,
              "#0d0887"
             ],
             [
              0.1111111111111111,
              "#46039f"
             ],
             [
              0.2222222222222222,
              "#7201a8"
             ],
             [
              0.3333333333333333,
              "#9c179e"
             ],
             [
              0.4444444444444444,
              "#bd3786"
             ],
             [
              0.5555555555555556,
              "#d8576b"
             ],
             [
              0.6666666666666666,
              "#ed7953"
             ],
             [
              0.7777777777777778,
              "#fb9f3a"
             ],
             [
              0.8888888888888888,
              "#fdca26"
             ],
             [
              1,
              "#f0f921"
             ]
            ],
            "type": "histogram2dcontour"
           }
          ],
          "mesh3d": [
           {
            "colorbar": {
             "outlinewidth": 0,
             "ticks": ""
            },
            "type": "mesh3d"
           }
          ],
          "parcoords": [
           {
            "line": {
             "colorbar": {
              "outlinewidth": 0,
              "ticks": ""
             }
            },
            "type": "parcoords"
           }
          ],
          "pie": [
           {
            "automargin": true,
            "type": "pie"
           }
          ],
          "scatter": [
           {
            "fillpattern": {
             "fillmode": "overlay",
             "size": 10,
             "solidity": 0.2
            },
            "type": "scatter"
           }
          ],
          "scatter3d": [
           {
            "line": {
             "colorbar": {
              "outlinewidth": 0,
              "ticks": ""
             }
            },
            "marker": {
             "colorbar": {
              "outlinewidth": 0,
              "ticks": ""
             }
            },
            "type": "scatter3d"
           }
          ],
          "scattercarpet": [
           {
            "marker": {
             "colorbar": {
              "outlinewidth": 0,
              "ticks": ""
             }
            },
            "type": "scattercarpet"
           }
          ],
          "scattergeo": [
           {
            "marker": {
             "colorbar": {
              "outlinewidth": 0,
              "ticks": ""
             }
            },
            "type": "scattergeo"
           }
          ],
          "scattergl": [
           {
            "marker": {
             "colorbar": {
              "outlinewidth": 0,
              "ticks": ""
             }
            },
            "type": "scattergl"
           }
          ],
          "scattermapbox": [
           {
            "marker": {
             "colorbar": {
              "outlinewidth": 0,
              "ticks": ""
             }
            },
            "type": "scattermapbox"
           }
          ],
          "scatterpolar": [
           {
            "marker": {
             "colorbar": {
              "outlinewidth": 0,
              "ticks": ""
             }
            },
            "type": "scatterpolar"
           }
          ],
          "scatterpolargl": [
           {
            "marker": {
             "colorbar": {
              "outlinewidth": 0,
              "ticks": ""
             }
            },
            "type": "scatterpolargl"
           }
          ],
          "scatterternary": [
           {
            "marker": {
             "colorbar": {
              "outlinewidth": 0,
              "ticks": ""
             }
            },
            "type": "scatterternary"
           }
          ],
          "surface": [
           {
            "colorbar": {
             "outlinewidth": 0,
             "ticks": ""
            },
            "colorscale": [
             [
              0,
              "#0d0887"
             ],
             [
              0.1111111111111111,
              "#46039f"
             ],
             [
              0.2222222222222222,
              "#7201a8"
             ],
             [
              0.3333333333333333,
              "#9c179e"
             ],
             [
              0.4444444444444444,
              "#bd3786"
             ],
             [
              0.5555555555555556,
              "#d8576b"
             ],
             [
              0.6666666666666666,
              "#ed7953"
             ],
             [
              0.7777777777777778,
              "#fb9f3a"
             ],
             [
              0.8888888888888888,
              "#fdca26"
             ],
             [
              1,
              "#f0f921"
             ]
            ],
            "type": "surface"
           }
          ],
          "table": [
           {
            "cells": {
             "fill": {
              "color": "#EBF0F8"
             },
             "line": {
              "color": "white"
             }
            },
            "header": {
             "fill": {
              "color": "#C8D4E3"
             },
             "line": {
              "color": "white"
             }
            },
            "type": "table"
           }
          ]
         },
         "layout": {
          "annotationdefaults": {
           "arrowcolor": "#2a3f5f",
           "arrowhead": 0,
           "arrowwidth": 1
          },
          "autotypenumbers": "strict",
          "coloraxis": {
           "colorbar": {
            "outlinewidth": 0,
            "ticks": ""
           }
          },
          "colorscale": {
           "diverging": [
            [
             0,
             "#8e0152"
            ],
            [
             0.1,
             "#c51b7d"
            ],
            [
             0.2,
             "#de77ae"
            ],
            [
             0.3,
             "#f1b6da"
            ],
            [
             0.4,
             "#fde0ef"
            ],
            [
             0.5,
             "#f7f7f7"
            ],
            [
             0.6,
             "#e6f5d0"
            ],
            [
             0.7,
             "#b8e186"
            ],
            [
             0.8,
             "#7fbc41"
            ],
            [
             0.9,
             "#4d9221"
            ],
            [
             1,
             "#276419"
            ]
           ],
           "sequential": [
            [
             0,
             "#0d0887"
            ],
            [
             0.1111111111111111,
             "#46039f"
            ],
            [
             0.2222222222222222,
             "#7201a8"
            ],
            [
             0.3333333333333333,
             "#9c179e"
            ],
            [
             0.4444444444444444,
             "#bd3786"
            ],
            [
             0.5555555555555556,
             "#d8576b"
            ],
            [
             0.6666666666666666,
             "#ed7953"
            ],
            [
             0.7777777777777778,
             "#fb9f3a"
            ],
            [
             0.8888888888888888,
             "#fdca26"
            ],
            [
             1,
             "#f0f921"
            ]
           ],
           "sequentialminus": [
            [
             0,
             "#0d0887"
            ],
            [
             0.1111111111111111,
             "#46039f"
            ],
            [
             0.2222222222222222,
             "#7201a8"
            ],
            [
             0.3333333333333333,
             "#9c179e"
            ],
            [
             0.4444444444444444,
             "#bd3786"
            ],
            [
             0.5555555555555556,
             "#d8576b"
            ],
            [
             0.6666666666666666,
             "#ed7953"
            ],
            [
             0.7777777777777778,
             "#fb9f3a"
            ],
            [
             0.8888888888888888,
             "#fdca26"
            ],
            [
             1,
             "#f0f921"
            ]
           ]
          },
          "colorway": [
           "#636efa",
           "#EF553B",
           "#00cc96",
           "#ab63fa",
           "#FFA15A",
           "#19d3f3",
           "#FF6692",
           "#B6E880",
           "#FF97FF",
           "#FECB52"
          ],
          "font": {
           "color": "#2a3f5f"
          },
          "geo": {
           "bgcolor": "white",
           "lakecolor": "white",
           "landcolor": "#E5ECF6",
           "showlakes": true,
           "showland": true,
           "subunitcolor": "white"
          },
          "hoverlabel": {
           "align": "left"
          },
          "hovermode": "closest",
          "mapbox": {
           "style": "light"
          },
          "paper_bgcolor": "white",
          "plot_bgcolor": "#E5ECF6",
          "polar": {
           "angularaxis": {
            "gridcolor": "white",
            "linecolor": "white",
            "ticks": ""
           },
           "bgcolor": "#E5ECF6",
           "radialaxis": {
            "gridcolor": "white",
            "linecolor": "white",
            "ticks": ""
           }
          },
          "scene": {
           "xaxis": {
            "backgroundcolor": "#E5ECF6",
            "gridcolor": "white",
            "gridwidth": 2,
            "linecolor": "white",
            "showbackground": true,
            "ticks": "",
            "zerolinecolor": "white"
           },
           "yaxis": {
            "backgroundcolor": "#E5ECF6",
            "gridcolor": "white",
            "gridwidth": 2,
            "linecolor": "white",
            "showbackground": true,
            "ticks": "",
            "zerolinecolor": "white"
           },
           "zaxis": {
            "backgroundcolor": "#E5ECF6",
            "gridcolor": "white",
            "gridwidth": 2,
            "linecolor": "white",
            "showbackground": true,
            "ticks": "",
            "zerolinecolor": "white"
           }
          },
          "shapedefaults": {
           "line": {
            "color": "#2a3f5f"
           }
          },
          "ternary": {
           "aaxis": {
            "gridcolor": "white",
            "linecolor": "white",
            "ticks": ""
           },
           "baxis": {
            "gridcolor": "white",
            "linecolor": "white",
            "ticks": ""
           },
           "bgcolor": "#E5ECF6",
           "caxis": {
            "gridcolor": "white",
            "linecolor": "white",
            "ticks": ""
           }
          },
          "title": {
           "x": 0.05
          },
          "xaxis": {
           "automargin": true,
           "gridcolor": "white",
           "linecolor": "white",
           "ticks": "",
           "title": {
            "standoff": 15
           },
           "zerolinecolor": "white",
           "zerolinewidth": 2
          },
          "yaxis": {
           "automargin": true,
           "gridcolor": "white",
           "linecolor": "white",
           "ticks": "",
           "title": {
            "standoff": 15
           },
           "zerolinecolor": "white",
           "zerolinewidth": 2
          }
         }
        },
        "title": {
         "text": "3D scatter plot"
        }
       }
      }
     },
     "metadata": {},
     "output_type": "display_data"
    }
   ],
   "source": [
    "fig=px.scatter_3d(df_copy,x='age',y='will_vote',z='candidate',color='education',title='3D scatter plot')\n",
    "fig.show()"
   ]
  },
  {
   "cell_type": "markdown",
   "metadata": {},
   "source": [
    "you can get information of age,will_vote,candidate and education to improve voting"
   ]
  },
  {
   "cell_type": "code",
   "execution_count": null,
   "metadata": {},
   "outputs": [],
   "source": [
    "cols=pd.crosstab(df['Category1'], df['Category2'])\n"
   ]
  },
  {
   "cell_type": "code",
   "execution_count": 75,
   "metadata": {},
   "outputs": [
    {
     "data": {
      "text/plain": [
       "Index(['id', 'sex', 'age', 'federal_district', 'type_of_city',\n",
       "       'knows_election_date', 'will_vote', 'candidate', 'television_usage',\n",
       "       'internet_usage', 'education', 'income', 'employment', 'job_type',\n",
       "       'company_type', 'weight1'],\n",
       "      dtype='object')"
      ]
     },
     "execution_count": 75,
     "metadata": {},
     "output_type": "execute_result"
    }
   ],
   "source": [
    "df.columns"
   ]
  },
  {
   "cell_type": "code",
   "execution_count": 77,
   "metadata": {},
   "outputs": [],
   "source": [
    "cols=pd.crosstab(df['knows_election_date'],df['television_usage'])\n"
   ]
  },
  {
   "cell_type": "code",
   "execution_count": 78,
   "metadata": {},
   "outputs": [
    {
     "data": {
      "text/plain": [
       "<Axes: xlabel='television_usage', ylabel='knows_election_date'>"
      ]
     },
     "execution_count": 78,
     "metadata": {},
     "output_type": "execute_result"
    },
    {
     "data": {
      "image/png": "[encoded data removed]",
      "text/plain": [
       "<Figure size 800x600 with 2 Axes>"
      ]
     },
     "metadata": {},
     "output_type": "display_data"
    }
   ],
   "source": [
    "plt.figure(figsize=(8, 6))\n",
    "sns.heatmap(cols, annot=True, cmap='YlGnBu', fmt='d')"
   ]
  },
  {
   "cell_type": "code",
   "execution_count": null,
   "metadata": {},
   "outputs": [],
   "source": []
  }
 ],
 "metadata": {
  "kernelspec": {
   "display_name": "Python 3",
   "language": "python",
   "name": "python3"
  },
  "language_info": {
   "codemirror_mode": {
    "name": "ipython",
    "version": 3
   },
   "file_extension": ".py",
   "mimetype": "text/x-python",
   "name": "python",
   "nbconvert_exporter": "python",
   "pygments_lexer": "ipython3",
   "version": "3.12.4"
  }
 },
 "nbformat": 4,
 "nbformat_minor": 2
}
